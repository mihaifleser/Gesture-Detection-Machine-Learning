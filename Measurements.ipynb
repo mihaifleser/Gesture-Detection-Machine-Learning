{
 "cells": [
  {
   "attachments": {},
   "cell_type": "markdown",
   "metadata": {},
   "source": [
    "# Gesture model training"
   ]
  },
  {
   "attachments": {},
   "cell_type": "markdown",
   "metadata": {},
   "source": [
    "## Data Reading\n",
    "\n",
    "This section reads the data from the sensors. The data is stored in two .csv files, Measurement.cs and Batch.csv <br>\n",
    "Measurement.csv contains the actual values of rotation and acceleration. Each gesture has 100 tim"
   ]
  },
  {
   "cell_type": "code",
   "execution_count": 1,
   "metadata": {},
   "outputs": [
    {
     "data": {
      "text/html": [
       "<div>\n",
       "<style scoped>\n",
       "    .dataframe tbody tr th:only-of-type {\n",
       "        vertical-align: middle;\n",
       "    }\n",
       "\n",
       "    .dataframe tbody tr th {\n",
       "        vertical-align: top;\n",
       "    }\n",
       "\n",
       "    .dataframe thead th {\n",
       "        text-align: right;\n",
       "    }\n",
       "</style>\n",
       "<table border=\"1\" class=\"dataframe\">\n",
       "  <thead>\n",
       "    <tr style=\"text-align: right;\">\n",
       "      <th></th>\n",
       "      <th>id</th>\n",
       "      <th>batchId</th>\n",
       "      <th>xRotation</th>\n",
       "      <th>yRotation</th>\n",
       "      <th>zRotation</th>\n",
       "      <th>xAcceleration</th>\n",
       "      <th>yAcceleration</th>\n",
       "      <th>zAcceleration</th>\n",
       "    </tr>\n",
       "  </thead>\n",
       "  <tbody>\n",
       "    <tr>\n",
       "      <th>0</th>\n",
       "      <td>1</td>\n",
       "      <td>2</td>\n",
       "      <td>0.004261</td>\n",
       "      <td>0.004527</td>\n",
       "      <td>0.000533</td>\n",
       "      <td>0.319741</td>\n",
       "      <td>0.886541</td>\n",
       "      <td>9.669696</td>\n",
       "    </tr>\n",
       "    <tr>\n",
       "      <th>1</th>\n",
       "      <td>2</td>\n",
       "      <td>2</td>\n",
       "      <td>0.004261</td>\n",
       "      <td>0.004527</td>\n",
       "      <td>0.000533</td>\n",
       "      <td>0.307777</td>\n",
       "      <td>0.879362</td>\n",
       "      <td>9.731909</td>\n",
       "    </tr>\n",
       "    <tr>\n",
       "      <th>2</th>\n",
       "      <td>3</td>\n",
       "      <td>2</td>\n",
       "      <td>0.004261</td>\n",
       "      <td>0.004527</td>\n",
       "      <td>0.000533</td>\n",
       "      <td>0.269492</td>\n",
       "      <td>0.872184</td>\n",
       "      <td>9.748808</td>\n",
       "    </tr>\n",
       "    <tr>\n",
       "      <th>3</th>\n",
       "      <td>4</td>\n",
       "      <td>2</td>\n",
       "      <td>0.002397</td>\n",
       "      <td>0.002796</td>\n",
       "      <td>0.003196</td>\n",
       "      <td>0.348455</td>\n",
       "      <td>0.853041</td>\n",
       "      <td>9.767951</td>\n",
       "    </tr>\n",
       "    <tr>\n",
       "      <th>4</th>\n",
       "      <td>5</td>\n",
       "      <td>2</td>\n",
       "      <td>0.002397</td>\n",
       "      <td>0.002796</td>\n",
       "      <td>0.003196</td>\n",
       "      <td>0.331705</td>\n",
       "      <td>0.848256</td>\n",
       "      <td>9.765558</td>\n",
       "    </tr>\n",
       "    <tr>\n",
       "      <th>...</th>\n",
       "      <td>...</td>\n",
       "      <td>...</td>\n",
       "      <td>...</td>\n",
       "      <td>...</td>\n",
       "      <td>...</td>\n",
       "      <td>...</td>\n",
       "      <td>...</td>\n",
       "      <td>...</td>\n",
       "    </tr>\n",
       "    <tr>\n",
       "      <th>62095</th>\n",
       "      <td>62096</td>\n",
       "      <td>626</td>\n",
       "      <td>-0.259251</td>\n",
       "      <td>-0.094140</td>\n",
       "      <td>0.111317</td>\n",
       "      <td>-0.954736</td>\n",
       "      <td>0.929612</td>\n",
       "      <td>9.662517</td>\n",
       "    </tr>\n",
       "    <tr>\n",
       "      <th>62096</th>\n",
       "      <td>62097</td>\n",
       "      <td>626</td>\n",
       "      <td>-0.259251</td>\n",
       "      <td>-0.094140</td>\n",
       "      <td>0.111317</td>\n",
       "      <td>-1.026521</td>\n",
       "      <td>0.891326</td>\n",
       "      <td>9.686445</td>\n",
       "    </tr>\n",
       "    <tr>\n",
       "      <th>62097</th>\n",
       "      <td>62098</td>\n",
       "      <td>626</td>\n",
       "      <td>-0.259251</td>\n",
       "      <td>-0.094140</td>\n",
       "      <td>0.111317</td>\n",
       "      <td>-0.983450</td>\n",
       "      <td>0.699602</td>\n",
       "      <td>9.763165</td>\n",
       "    </tr>\n",
       "    <tr>\n",
       "      <th>62098</th>\n",
       "      <td>62099</td>\n",
       "      <td>626</td>\n",
       "      <td>-0.259251</td>\n",
       "      <td>-0.094140</td>\n",
       "      <td>0.111317</td>\n",
       "      <td>-0.923480</td>\n",
       "      <td>0.584746</td>\n",
       "      <td>9.808629</td>\n",
       "    </tr>\n",
       "    <tr>\n",
       "      <th>62099</th>\n",
       "      <td>62100</td>\n",
       "      <td>626</td>\n",
       "      <td>-0.259251</td>\n",
       "      <td>-0.094140</td>\n",
       "      <td>0.111317</td>\n",
       "      <td>-0.942772</td>\n",
       "      <td>0.678066</td>\n",
       "      <td>9.779915</td>\n",
       "    </tr>\n",
       "  </tbody>\n",
       "</table>\n",
       "<p>62100 rows × 8 columns</p>\n",
       "</div>"
      ],
      "text/plain": [
       "          id  batchId  xRotation  yRotation  zRotation  xAcceleration  \\\n",
       "0          1        2   0.004261   0.004527   0.000533       0.319741   \n",
       "1          2        2   0.004261   0.004527   0.000533       0.307777   \n",
       "2          3        2   0.004261   0.004527   0.000533       0.269492   \n",
       "3          4        2   0.002397   0.002796   0.003196       0.348455   \n",
       "4          5        2   0.002397   0.002796   0.003196       0.331705   \n",
       "...      ...      ...        ...        ...        ...            ...   \n",
       "62095  62096      626  -0.259251  -0.094140   0.111317      -0.954736   \n",
       "62096  62097      626  -0.259251  -0.094140   0.111317      -1.026521   \n",
       "62097  62098      626  -0.259251  -0.094140   0.111317      -0.983450   \n",
       "62098  62099      626  -0.259251  -0.094140   0.111317      -0.923480   \n",
       "62099  62100      626  -0.259251  -0.094140   0.111317      -0.942772   \n",
       "\n",
       "       yAcceleration  zAcceleration  \n",
       "0           0.886541       9.669696  \n",
       "1           0.879362       9.731909  \n",
       "2           0.872184       9.748808  \n",
       "3           0.853041       9.767951  \n",
       "4           0.848256       9.765558  \n",
       "...              ...            ...  \n",
       "62095       0.929612       9.662517  \n",
       "62096       0.891326       9.686445  \n",
       "62097       0.699602       9.763165  \n",
       "62098       0.584746       9.808629  \n",
       "62099       0.678066       9.779915  \n",
       "\n",
       "[62100 rows x 8 columns]"
      ]
     },
     "execution_count": 1,
     "metadata": {},
     "output_type": "execute_result"
    }
   ],
   "source": [
    "import pandas as pd\n",
    "\n",
    "ms = pd.read_csv(\"measurement_db-Measurement.csv\")\n",
    "ms"
   ]
  },
  {
   "attachments": {},
   "cell_type": "markdown",
   "metadata": {},
   "source": [
    "The Batch.csv contains the id of the batch and the type of the gesture: <br> \n",
    "0 -> Up and down <br>\n",
    "1 -> Left and right <br>\n",
    "2 -> Rotation"
   ]
  },
  {
   "cell_type": "code",
   "execution_count": 2,
   "metadata": {},
   "outputs": [
    {
     "data": {
      "text/html": [
       "<div>\n",
       "<style scoped>\n",
       "    .dataframe tbody tr th:only-of-type {\n",
       "        vertical-align: middle;\n",
       "    }\n",
       "\n",
       "    .dataframe tbody tr th {\n",
       "        vertical-align: top;\n",
       "    }\n",
       "\n",
       "    .dataframe thead th {\n",
       "        text-align: right;\n",
       "    }\n",
       "</style>\n",
       "<table border=\"1\" class=\"dataframe\">\n",
       "  <thead>\n",
       "    <tr style=\"text-align: right;\">\n",
       "      <th></th>\n",
       "      <th>id</th>\n",
       "      <th>type</th>\n",
       "    </tr>\n",
       "  </thead>\n",
       "  <tbody>\n",
       "    <tr>\n",
       "      <th>0</th>\n",
       "      <td>1</td>\n",
       "      <td>0</td>\n",
       "    </tr>\n",
       "    <tr>\n",
       "      <th>1</th>\n",
       "      <td>2</td>\n",
       "      <td>0</td>\n",
       "    </tr>\n",
       "    <tr>\n",
       "      <th>2</th>\n",
       "      <td>3</td>\n",
       "      <td>0</td>\n",
       "    </tr>\n",
       "    <tr>\n",
       "      <th>3</th>\n",
       "      <td>4</td>\n",
       "      <td>0</td>\n",
       "    </tr>\n",
       "    <tr>\n",
       "      <th>4</th>\n",
       "      <td>5</td>\n",
       "      <td>0</td>\n",
       "    </tr>\n",
       "    <tr>\n",
       "      <th>...</th>\n",
       "      <td>...</td>\n",
       "      <td>...</td>\n",
       "    </tr>\n",
       "    <tr>\n",
       "      <th>621</th>\n",
       "      <td>622</td>\n",
       "      <td>2</td>\n",
       "    </tr>\n",
       "    <tr>\n",
       "      <th>622</th>\n",
       "      <td>623</td>\n",
       "      <td>2</td>\n",
       "    </tr>\n",
       "    <tr>\n",
       "      <th>623</th>\n",
       "      <td>624</td>\n",
       "      <td>2</td>\n",
       "    </tr>\n",
       "    <tr>\n",
       "      <th>624</th>\n",
       "      <td>625</td>\n",
       "      <td>2</td>\n",
       "    </tr>\n",
       "    <tr>\n",
       "      <th>625</th>\n",
       "      <td>626</td>\n",
       "      <td>2</td>\n",
       "    </tr>\n",
       "  </tbody>\n",
       "</table>\n",
       "<p>626 rows × 2 columns</p>\n",
       "</div>"
      ],
      "text/plain": [
       "      id  type\n",
       "0      1     0\n",
       "1      2     0\n",
       "2      3     0\n",
       "3      4     0\n",
       "4      5     0\n",
       "..   ...   ...\n",
       "621  622     2\n",
       "622  623     2\n",
       "623  624     2\n",
       "624  625     2\n",
       "625  626     2\n",
       "\n",
       "[626 rows x 2 columns]"
      ]
     },
     "execution_count": 2,
     "metadata": {},
     "output_type": "execute_result"
    }
   ],
   "source": [
    "bt = pd.read_csv(\"measurement_db-Batch.csv\")\n",
    "bt"
   ]
  },
  {
   "attachments": {},
   "cell_type": "markdown",
   "metadata": {},
   "source": [
    "## Data preparing\n",
    "\n",
    "This section prepares the data in order to feed it to the neural network model. <br>\n",
    "Firstly, we concatenate all the values from the table, and we will organise the data in two columns with gesture's type and it's 100 measures."
   ]
  },
  {
   "cell_type": "code",
   "execution_count": 3,
   "metadata": {},
   "outputs": [
    {
     "data": {
      "text/html": [
       "<div>\n",
       "<style scoped>\n",
       "    .dataframe tbody tr th:only-of-type {\n",
       "        vertical-align: middle;\n",
       "    }\n",
       "\n",
       "    .dataframe tbody tr th {\n",
       "        vertical-align: top;\n",
       "    }\n",
       "\n",
       "    .dataframe thead th {\n",
       "        text-align: right;\n",
       "    }\n",
       "</style>\n",
       "<table border=\"1\" class=\"dataframe\">\n",
       "  <thead>\n",
       "    <tr style=\"text-align: right;\">\n",
       "      <th></th>\n",
       "      <th>type</th>\n",
       "      <th>sensors</th>\n",
       "    </tr>\n",
       "  </thead>\n",
       "  <tbody>\n",
       "    <tr>\n",
       "      <th>0</th>\n",
       "      <td>0</td>\n",
       "      <td>[[0.0042609320953488, 0.0045272405259311, 0.00...</td>\n",
       "    </tr>\n",
       "    <tr>\n",
       "      <th>1</th>\n",
       "      <td>0</td>\n",
       "      <td>[[-0.0555252730846405, -0.0154458787292242, 0....</td>\n",
       "    </tr>\n",
       "    <tr>\n",
       "      <th>2</th>\n",
       "      <td>0</td>\n",
       "      <td>[[-0.0061250897124409, 0.0034620072692632, -0....</td>\n",
       "    </tr>\n",
       "    <tr>\n",
       "      <th>3</th>\n",
       "      <td>0</td>\n",
       "      <td>[[-0.0271634422242641, -0.0018641578499227, 0....</td>\n",
       "    </tr>\n",
       "    <tr>\n",
       "      <th>4</th>\n",
       "      <td>0</td>\n",
       "      <td>[[-0.0051930109038949, -0.0071903229691088, 0....</td>\n",
       "    </tr>\n",
       "    <tr>\n",
       "      <th>...</th>\n",
       "      <td>...</td>\n",
       "      <td>...</td>\n",
       "    </tr>\n",
       "    <tr>\n",
       "      <th>616</th>\n",
       "      <td>2</td>\n",
       "      <td>[[-0.0585878156125545, 0.0190410409122705, 0.0...</td>\n",
       "    </tr>\n",
       "    <tr>\n",
       "      <th>617</th>\n",
       "      <td>2</td>\n",
       "      <td>[[-0.1560566425323486, -0.0211715064942836, 0....</td>\n",
       "    </tr>\n",
       "    <tr>\n",
       "      <th>618</th>\n",
       "      <td>2</td>\n",
       "      <td>[[-0.026231363415718, 0.0113181006163358, 0.01...</td>\n",
       "    </tr>\n",
       "    <tr>\n",
       "      <th>619</th>\n",
       "      <td>2</td>\n",
       "      <td>[[-0.0013315412215888, 0.0091876350343227, 0.0...</td>\n",
       "    </tr>\n",
       "    <tr>\n",
       "      <th>620</th>\n",
       "      <td>2</td>\n",
       "      <td>[[-0.0090544810518622, -0.0165111124515533, 0....</td>\n",
       "    </tr>\n",
       "  </tbody>\n",
       "</table>\n",
       "<p>621 rows × 2 columns</p>\n",
       "</div>"
      ],
      "text/plain": [
       "     type                                            sensors\n",
       "0       0  [[0.0042609320953488, 0.0045272405259311, 0.00...\n",
       "1       0  [[-0.0555252730846405, -0.0154458787292242, 0....\n",
       "2       0  [[-0.0061250897124409, 0.0034620072692632, -0....\n",
       "3       0  [[-0.0271634422242641, -0.0018641578499227, 0....\n",
       "4       0  [[-0.0051930109038949, -0.0071903229691088, 0....\n",
       "..    ...                                                ...\n",
       "616     2  [[-0.0585878156125545, 0.0190410409122705, 0.0...\n",
       "617     2  [[-0.1560566425323486, -0.0211715064942836, 0....\n",
       "618     2  [[-0.026231363415718, 0.0113181006163358, 0.01...\n",
       "619     2  [[-0.0013315412215888, 0.0091876350343227, 0.0...\n",
       "620     2  [[-0.0090544810518622, -0.0165111124515533, 0....\n",
       "\n",
       "[621 rows x 2 columns]"
      ]
     },
     "execution_count": 3,
     "metadata": {},
     "output_type": "execute_result"
    }
   ],
   "source": [
    "import numpy as np\n",
    "data = pd.DataFrame(columns=['type', 'sensors'])\n",
    "for i in set(ms['batchId'].tolist()):\n",
    "    allMeasurements = ms.loc[ms['batchId'] == i]\n",
    "    filtered = allMeasurements.drop('id', inplace=False, axis=1).drop('batchId', inplace=False, axis=1).to_numpy()\n",
    "    flat = filtered.flatten()\n",
    "    batchType = bt.loc[bt['id'] == i].iat[0,1]\n",
    "    data.loc[len(data)] = {\n",
    "    \"type\": batchType,\n",
    "    \"sensors\": filtered\n",
    "    }\n",
    "data"
   ]
  },
  {
   "attachments": {},
   "cell_type": "markdown",
   "metadata": {},
   "source": [
    "Now, we split the data into training and test."
   ]
  },
  {
   "cell_type": "code",
   "execution_count": 4,
   "metadata": {},
   "outputs": [
    {
     "name": "stdout",
     "output_type": "stream",
     "text": [
      "[[[ 1.19838715e-02  1.58453416e-02 -1.86415785e-03  5.54536641e-01\n",
      "   -5.38833737e-01  9.74387264e+00]\n",
      "  [ 1.19838715e-02  1.58453416e-02 -1.86415785e-03  5.49750984e-01\n",
      "   -4.31007177e-01  9.87323475e+00]\n",
      "  [ 1.19838715e-02  1.58453416e-02 -1.86415785e-03  4.20389026e-01\n",
      "   -4.57328230e-01  9.85648537e+00]\n",
      "  ...\n",
      "  [-8.92132614e-03 -2.74297502e-02 -8.25555623e-03  2.43021056e-01\n",
      "   -1.04671037e+00  1.14975128e+01]\n",
      "  [-8.92132614e-03 -2.74297502e-02 -8.25555623e-03  3.12562466e-01\n",
      "   -3.06430846e-01  1.11022482e+01]\n",
      "  [-8.92132614e-03 -2.74297502e-02 -8.25555623e-03  6.02393091e-01\n",
      "   -4.35792834e-01  9.94516945e+00]]\n",
      "\n",
      " [[-2.78292131e-02 -4.79354849e-03 -1.58453416e-02 -5.28215587e-01\n",
      "    6.72981367e-02  9.68405247e+00]\n",
      "  [-2.78292131e-02 -4.79354849e-03 -1.58453416e-02 -4.66002196e-01\n",
      "    4.93519660e-03  9.79187870e+00]\n",
      "  [-2.78292131e-02 -4.79354849e-03 -1.58453416e-02 -4.01396006e-01\n",
      "   -4.66899514e-01  1.01080303e+01]\n",
      "  ...\n",
      "  [-1.04925454e-01 -3.48863825e-02  1.33154128e-04 -1.71385929e-01\n",
      "    5.05483784e-02  9.72712326e+00]\n",
      "  [-1.04925454e-01 -3.48863825e-02  1.33154128e-04 -3.70139748e-01\n",
      "    6.18245542e-01  9.58101177e+00]\n",
      "  [-1.04925454e-01 -3.48863825e-02  1.33154128e-04 -3.17497641e-01\n",
      "    6.18245542e-01  9.68165970e+00]]\n",
      "\n",
      " [[ 1.55790327e-02  3.72831570e-03 -1.97068118e-02  4.15603369e-01\n",
      "   -1.25742829e+00  1.00218887e+01]\n",
      "  [-2.31688190e-02 -9.32078902e-03  3.06254486e-03  2.35842586e-01\n",
      "   -1.32696974e+00  1.00625668e+01]\n",
      "  [-2.31688190e-02 -9.32078902e-03  3.06254486e-03  3.65204543e-01\n",
      "   -1.22392881e+00  9.82059288e+00]\n",
      "  ...\n",
      "  [ 4.12777811e-03  2.09051985e-02  2.64976714e-02  4.68245476e-01\n",
      "   -1.17846513e+00  1.03691473e+01]\n",
      "  [ 4.12777811e-03  2.09051985e-02  2.64976714e-02  5.40179729e-01\n",
      "   -9.98704374e-01  9.96909714e+00]\n",
      "  [ 4.12777811e-03  2.09051985e-02  2.64976714e-02  5.59322298e-01\n",
      "   -1.01066852e+00  9.56904697e+00]]\n",
      "\n",
      " ...\n",
      "\n",
      " [[-7.64571011e-01 -6.15438402e-01  1.54405522e+00 -1.32951215e-01\n",
      "    1.30812621e+00  1.01632147e+01]\n",
      "  [-7.64571011e-01 -6.15438402e-01  1.54405522e+00 -1.64207458e-01\n",
      "    4.84097928e-01  1.02830057e+01]\n",
      "  [-7.64571011e-01 -6.15438402e-01  1.54405522e+00  7.29810894e-02\n",
      "    7.23679304e-01  1.02925768e+01]\n",
      "  ...\n",
      "  [ 4.95333374e-02  7.32347695e-03 -2.34351270e-02  1.06704938e+00\n",
      "   -2.89681077e-01  9.64815998e+00]\n",
      "  [ 4.95333374e-02  7.32347695e-03 -2.34351270e-02  1.18923283e+00\n",
      "   -3.13609332e-01  9.49965572e+00]\n",
      "  [ 4.95333374e-02  7.32347695e-03 -2.34351270e-02  1.19880414e+00\n",
      "   -4.05284353e-02  9.65294552e+00]]\n",
      "\n",
      " [[-4.94001806e-02 -4.37810779e-01  2.25043797e+00 -1.33100757e-02\n",
      "   -1.77068874e-01  1.01488581e+01]\n",
      "  [-4.94001806e-02 -4.37810779e-01  2.25043797e+00 -1.64207458e-01\n",
      "    1.87088817e-01  9.91166973e+00]\n",
      "  [-4.94001806e-02 -4.37810779e-01  2.25043797e+00 -2.28813663e-01\n",
      "    4.81555574e-02  9.68405247e+00]\n",
      "  ...\n",
      "  [ 2.26362012e-02  1.01197138e-02 -2.48998217e-02  1.11984098e+00\n",
      "    3.30807716e-01  9.54990482e+00]\n",
      "  [ 2.26362012e-02  1.01197138e-02 -2.48998217e-02  1.10069847e+00\n",
      "    1.96660116e-01  9.83494949e+00]\n",
      "  [ 2.26362012e-02  1.01197138e-02 -2.48998217e-02  1.18923283e+00\n",
      "    1.89481646e-01  9.78948593e+00]]\n",
      "\n",
      " [[ 5.72562730e-03  6.25824416e-03  9.85340588e-03 -3.94067973e-01\n",
      "   -9.22134042e-01  9.81102180e+00]\n",
      "  [-1.37148751e-02 -9.05448105e-03 -5.19301090e-03 -4.20538574e-01\n",
      "   -1.00109720e+00  9.79905701e+00]\n",
      "  [-1.37148751e-02 -9.05448105e-03 -5.19301090e-03 -4.08574462e-01\n",
      "   -1.04192472e+00  9.79666424e+00]\n",
      "  ...\n",
      "  [-5.77888899e-02  1.30491043e-02  2.79623666e-03 -3.22283298e-01\n",
      "   -2.32103795e-01  9.68644524e+00]\n",
      "  [-5.77888899e-02  1.30491043e-02  2.79623666e-03 -2.55134702e-01\n",
      "   -5.02941430e-01  9.85648537e+00]\n",
      "  [-5.77888899e-02  1.30491043e-02  2.79623666e-03 -2.69641191e-01\n",
      "   -7.83200741e-01  9.89491940e+00]]]\n",
      "49     0\n",
      "584    2\n",
      "82     0\n",
      "305    0\n",
      "109    1\n",
      "      ..\n",
      "104    1\n",
      "114    1\n",
      "158    1\n",
      "181    1\n",
      "531    2\n",
      "Name: type, Length: 125, dtype: int64\n"
     ]
    }
   ],
   "source": [
    "from sklearn.model_selection import train_test_split\n",
    "\n",
    "import numpy as np\n",
    "from sklearn.model_selection import train_test_split\n",
    "from sklearn.preprocessing import LabelEncoder\n",
    "\n",
    "X = np.stack(data['sensors'].values)\n",
    "y = data['type']\n",
    "\n",
    "X_train, X_test, y_train, y_test = train_test_split(X, y, test_size=0.2, random_state=42)\n",
    "print(X_test)\n",
    "print(y_test)"
   ]
  },
  {
   "attachments": {},
   "cell_type": "markdown",
   "metadata": {},
   "source": [
    "## Model training\n",
    "\n",
    "This section covers the model training process."
   ]
  },
  {
   "cell_type": "code",
   "execution_count": 5,
   "metadata": {},
   "outputs": [
    {
     "name": "stdout",
     "output_type": "stream",
     "text": [
      "Epoch 1/10\n",
      "\u001b[1m12/12\u001b[0m \u001b[32m━━━━━━━━━━━━━━━━━━━━\u001b[0m\u001b[37m\u001b[0m \u001b[1m0s\u001b[0m 8ms/step - accuracy: 0.4455 - loss: 2.2254 - val_accuracy: 0.5600 - val_loss: 0.7393\n",
      "Epoch 2/10\n",
      "\u001b[1m12/12\u001b[0m \u001b[32m━━━━━━━━━━━━━━━━━━━━\u001b[0m\u001b[37m\u001b[0m \u001b[1m0s\u001b[0m 3ms/step - accuracy: 0.7506 - loss: 0.4987 - val_accuracy: 0.9800 - val_loss: 0.1572\n",
      "Epoch 3/10\n",
      "\u001b[1m12/12\u001b[0m \u001b[32m━━━━━━━━━━━━━━━━━━━━\u001b[0m\u001b[37m\u001b[0m \u001b[1m0s\u001b[0m 3ms/step - accuracy: 0.9510 - loss: 0.1936 - val_accuracy: 0.9800 - val_loss: 0.0733\n",
      "Epoch 4/10\n",
      "\u001b[1m12/12\u001b[0m \u001b[32m━━━━━━━━━━━━━━━━━━━━\u001b[0m\u001b[37m\u001b[0m \u001b[1m0s\u001b[0m 3ms/step - accuracy: 0.9714 - loss: 0.0936 - val_accuracy: 1.0000 - val_loss: 0.0424\n",
      "Epoch 5/10\n",
      "\u001b[1m12/12\u001b[0m \u001b[32m━━━━━━━━━━━━━━━━━━━━\u001b[0m\u001b[37m\u001b[0m \u001b[1m0s\u001b[0m 3ms/step - accuracy: 0.9946 - loss: 0.0457 - val_accuracy: 1.0000 - val_loss: 0.0192\n",
      "Epoch 6/10\n",
      "\u001b[1m12/12\u001b[0m \u001b[32m━━━━━━━━━━━━━━━━━━━━\u001b[0m\u001b[37m\u001b[0m \u001b[1m0s\u001b[0m 3ms/step - accuracy: 0.9960 - loss: 0.0256 - val_accuracy: 1.0000 - val_loss: 0.0127\n",
      "Epoch 7/10\n",
      "\u001b[1m12/12\u001b[0m \u001b[32m━━━━━━━━━━━━━━━━━━━━\u001b[0m\u001b[37m\u001b[0m \u001b[1m0s\u001b[0m 3ms/step - accuracy: 0.9938 - loss: 0.0208 - val_accuracy: 1.0000 - val_loss: 0.0107\n",
      "Epoch 8/10\n",
      "\u001b[1m12/12\u001b[0m \u001b[32m━━━━━━━━━━━━━━━━━━━━\u001b[0m\u001b[37m\u001b[0m \u001b[1m0s\u001b[0m 3ms/step - accuracy: 1.0000 - loss: 0.0141 - val_accuracy: 1.0000 - val_loss: 0.0077\n",
      "Epoch 9/10\n",
      "\u001b[1m12/12\u001b[0m \u001b[32m━━━━━━━━━━━━━━━━━━━━\u001b[0m\u001b[37m\u001b[0m \u001b[1m0s\u001b[0m 3ms/step - accuracy: 1.0000 - loss: 0.0125 - val_accuracy: 1.0000 - val_loss: 0.0053\n",
      "Epoch 10/10\n",
      "\u001b[1m12/12\u001b[0m \u001b[32m━━━━━━━━━━━━━━━━━━━━\u001b[0m\u001b[37m\u001b[0m \u001b[1m0s\u001b[0m 3ms/step - accuracy: 1.0000 - loss: 0.0095 - val_accuracy: 1.0000 - val_loss: 0.0045\n"
     ]
    }
   ],
   "source": [
    "from keras.models import Sequential\n",
    "from keras.layers import Dense\n",
    "from keras.layers import Input\n",
    "from keras.layers import Flatten\n",
    "\n",
    "import tensorflow as tf\n",
    "\n",
    "model = Sequential()\n",
    "model.add(Input(shape = (100,6)))\n",
    "model.add(Dense(20, activation='relu'))\n",
    "model.add(Dense(5, activation='relu'))\n",
    "model.add(Flatten())\n",
    "model.add(Dense(3, activation='softmax')) \n",
    "\n",
    "model.compile(loss='sparse_categorical_crossentropy', metrics=['accuracy'], optimizer='adam')\n",
    "\n",
    "history = model.fit(X_train, y_train, epochs=10, batch_size=40, validation_split=0.1)"
   ]
  },
  {
   "cell_type": "code",
   "execution_count": 6,
   "metadata": {},
   "outputs": [
    {
     "data": {
      "text/html": [
       "<pre style=\"white-space:pre;overflow-x:auto;line-height:normal;font-family:Menlo,'DejaVu Sans Mono',consolas,'Courier New',monospace\"><span style=\"font-weight: bold\">Model: \"sequential\"</span>\n",
       "</pre>\n"
      ],
      "text/plain": [
       "\u001b[1mModel: \"sequential\"\u001b[0m\n"
      ]
     },
     "metadata": {},
     "output_type": "display_data"
    },
    {
     "data": {
      "text/html": [
       "<pre style=\"white-space:pre;overflow-x:auto;line-height:normal;font-family:Menlo,'DejaVu Sans Mono',consolas,'Courier New',monospace\">┏━━━━━━━━━━━━━━━━━━━━━━━━━━━━━━━━━┳━━━━━━━━━━━━━━━━━━━━━━━━┳━━━━━━━━━━━━━━━┓\n",
       "┃<span style=\"font-weight: bold\"> Layer (type)                    </span>┃<span style=\"font-weight: bold\"> Output Shape           </span>┃<span style=\"font-weight: bold\">       Param # </span>┃\n",
       "┡━━━━━━━━━━━━━━━━━━━━━━━━━━━━━━━━━╇━━━━━━━━━━━━━━━━━━━━━━━━╇━━━━━━━━━━━━━━━┩\n",
       "│ dense (<span style=\"color: #0087ff; text-decoration-color: #0087ff\">Dense</span>)                   │ (<span style=\"color: #00d7ff; text-decoration-color: #00d7ff\">None</span>, <span style=\"color: #00af00; text-decoration-color: #00af00\">100</span>, <span style=\"color: #00af00; text-decoration-color: #00af00\">20</span>)        │           <span style=\"color: #00af00; text-decoration-color: #00af00\">140</span> │\n",
       "├─────────────────────────────────┼────────────────────────┼───────────────┤\n",
       "│ dense_1 (<span style=\"color: #0087ff; text-decoration-color: #0087ff\">Dense</span>)                 │ (<span style=\"color: #00d7ff; text-decoration-color: #00d7ff\">None</span>, <span style=\"color: #00af00; text-decoration-color: #00af00\">100</span>, <span style=\"color: #00af00; text-decoration-color: #00af00\">5</span>)         │           <span style=\"color: #00af00; text-decoration-color: #00af00\">105</span> │\n",
       "├─────────────────────────────────┼────────────────────────┼───────────────┤\n",
       "│ flatten (<span style=\"color: #0087ff; text-decoration-color: #0087ff\">Flatten</span>)               │ (<span style=\"color: #00d7ff; text-decoration-color: #00d7ff\">None</span>, <span style=\"color: #00af00; text-decoration-color: #00af00\">500</span>)            │             <span style=\"color: #00af00; text-decoration-color: #00af00\">0</span> │\n",
       "├─────────────────────────────────┼────────────────────────┼───────────────┤\n",
       "│ dense_2 (<span style=\"color: #0087ff; text-decoration-color: #0087ff\">Dense</span>)                 │ (<span style=\"color: #00d7ff; text-decoration-color: #00d7ff\">None</span>, <span style=\"color: #00af00; text-decoration-color: #00af00\">3</span>)              │         <span style=\"color: #00af00; text-decoration-color: #00af00\">1,503</span> │\n",
       "└─────────────────────────────────┴────────────────────────┴───────────────┘\n",
       "</pre>\n"
      ],
      "text/plain": [
       "┏━━━━━━━━━━━━━━━━━━━━━━━━━━━━━━━━━┳━━━━━━━━━━━━━━━━━━━━━━━━┳━━━━━━━━━━━━━━━┓\n",
       "┃\u001b[1m \u001b[0m\u001b[1mLayer (type)                   \u001b[0m\u001b[1m \u001b[0m┃\u001b[1m \u001b[0m\u001b[1mOutput Shape          \u001b[0m\u001b[1m \u001b[0m┃\u001b[1m \u001b[0m\u001b[1m      Param #\u001b[0m\u001b[1m \u001b[0m┃\n",
       "┡━━━━━━━━━━━━━━━━━━━━━━━━━━━━━━━━━╇━━━━━━━━━━━━━━━━━━━━━━━━╇━━━━━━━━━━━━━━━┩\n",
       "│ dense (\u001b[38;5;33mDense\u001b[0m)                   │ (\u001b[38;5;45mNone\u001b[0m, \u001b[38;5;34m100\u001b[0m, \u001b[38;5;34m20\u001b[0m)        │           \u001b[38;5;34m140\u001b[0m │\n",
       "├─────────────────────────────────┼────────────────────────┼───────────────┤\n",
       "│ dense_1 (\u001b[38;5;33mDense\u001b[0m)                 │ (\u001b[38;5;45mNone\u001b[0m, \u001b[38;5;34m100\u001b[0m, \u001b[38;5;34m5\u001b[0m)         │           \u001b[38;5;34m105\u001b[0m │\n",
       "├─────────────────────────────────┼────────────────────────┼───────────────┤\n",
       "│ flatten (\u001b[38;5;33mFlatten\u001b[0m)               │ (\u001b[38;5;45mNone\u001b[0m, \u001b[38;5;34m500\u001b[0m)            │             \u001b[38;5;34m0\u001b[0m │\n",
       "├─────────────────────────────────┼────────────────────────┼───────────────┤\n",
       "│ dense_2 (\u001b[38;5;33mDense\u001b[0m)                 │ (\u001b[38;5;45mNone\u001b[0m, \u001b[38;5;34m3\u001b[0m)              │         \u001b[38;5;34m1,503\u001b[0m │\n",
       "└─────────────────────────────────┴────────────────────────┴───────────────┘\n"
      ]
     },
     "metadata": {},
     "output_type": "display_data"
    },
    {
     "data": {
      "text/html": [
       "<pre style=\"white-space:pre;overflow-x:auto;line-height:normal;font-family:Menlo,'DejaVu Sans Mono',consolas,'Courier New',monospace\"><span style=\"font-weight: bold\"> Total params: </span><span style=\"color: #00af00; text-decoration-color: #00af00\">5,246</span> (20.50 KB)\n",
       "</pre>\n"
      ],
      "text/plain": [
       "\u001b[1m Total params: \u001b[0m\u001b[38;5;34m5,246\u001b[0m (20.50 KB)\n"
      ]
     },
     "metadata": {},
     "output_type": "display_data"
    },
    {
     "data": {
      "text/html": [
       "<pre style=\"white-space:pre;overflow-x:auto;line-height:normal;font-family:Menlo,'DejaVu Sans Mono',consolas,'Courier New',monospace\"><span style=\"font-weight: bold\"> Trainable params: </span><span style=\"color: #00af00; text-decoration-color: #00af00\">1,748</span> (6.83 KB)\n",
       "</pre>\n"
      ],
      "text/plain": [
       "\u001b[1m Trainable params: \u001b[0m\u001b[38;5;34m1,748\u001b[0m (6.83 KB)\n"
      ]
     },
     "metadata": {},
     "output_type": "display_data"
    },
    {
     "data": {
      "text/html": [
       "<pre style=\"white-space:pre;overflow-x:auto;line-height:normal;font-family:Menlo,'DejaVu Sans Mono',consolas,'Courier New',monospace\"><span style=\"font-weight: bold\"> Non-trainable params: </span><span style=\"color: #00af00; text-decoration-color: #00af00\">0</span> (0.00 B)\n",
       "</pre>\n"
      ],
      "text/plain": [
       "\u001b[1m Non-trainable params: \u001b[0m\u001b[38;5;34m0\u001b[0m (0.00 B)\n"
      ]
     },
     "metadata": {},
     "output_type": "display_data"
    },
    {
     "data": {
      "text/html": [
       "<pre style=\"white-space:pre;overflow-x:auto;line-height:normal;font-family:Menlo,'DejaVu Sans Mono',consolas,'Courier New',monospace\"><span style=\"font-weight: bold\"> Optimizer params: </span><span style=\"color: #00af00; text-decoration-color: #00af00\">3,498</span> (13.67 KB)\n",
       "</pre>\n"
      ],
      "text/plain": [
       "\u001b[1m Optimizer params: \u001b[0m\u001b[38;5;34m3,498\u001b[0m (13.67 KB)\n"
      ]
     },
     "metadata": {},
     "output_type": "display_data"
    }
   ],
   "source": [
    "model.summary()"
   ]
  },
  {
   "cell_type": "code",
   "execution_count": 7,
   "metadata": {},
   "outputs": [
    {
     "data": {
      "image/png": "[encoded data removed]",
      "text/plain": [
       "<Figure size 640x480 with 1 Axes>"
      ]
     },
     "metadata": {},
     "output_type": "display_data"
    },
    {
     "data": {
      "image/png": "[encoded data removed]",
      "text/plain": [
       "<Figure size 640x480 with 1 Axes>"
      ]
     },
     "metadata": {},
     "output_type": "display_data"
    }
   ],
   "source": [
    "import keras\n",
    "from matplotlib import pyplot as plt\n",
    "plt.plot(history.history['accuracy'])\n",
    "plt.plot(history.history['val_accuracy'])\n",
    "plt.title('model accuracy')\n",
    "plt.ylabel('accuracy')\n",
    "plt.xlabel('epoch')\n",
    "plt.legend(['train', 'val'], loc='upper left')\n",
    "plt.show()\n",
    "plt.subplot(1,2,1)\n",
    "\n",
    "plt.plot(history.history['loss'])\n",
    "plt.plot(history.history['val_loss'])\n",
    "plt.title('model loss')\n",
    "plt.ylabel('loss')\n",
    "plt.xlabel('epoch')\n",
    "plt.legend(['train', 'val'], loc='upper left')\n",
    "plt.show()"
   ]
  },
  {
   "cell_type": "code",
   "execution_count": 8,
   "metadata": {},
   "outputs": [
    {
     "name": "stdout",
     "output_type": "stream",
     "text": [
      "\u001b[1m4/4\u001b[0m \u001b[32m━━━━━━━━━━━━━━━━━━━━\u001b[0m\u001b[37m\u001b[0m \u001b[1m0s\u001b[0m 4ms/step - accuracy: 1.0000 - loss: 0.0093 \n"
     ]
    }
   ],
   "source": [
    "loss, accuracy = model.evaluate(X_test, y_test)"
   ]
  },
  {
   "attachments": {},
   "cell_type": "markdown",
   "metadata": {},
   "source": [
    "Training two predefined trees classifiers with the recorded data."
   ]
  },
  {
   "cell_type": "code",
   "execution_count": 9,
   "metadata": {},
   "outputs": [
    {
     "name": "stdout",
     "output_type": "stream",
     "text": [
      "Accuracy: 1.0\n"
     ]
    }
   ],
   "source": [
    "from sklearn.ensemble import RandomForestClassifier\n",
    "X = np.array(data['sensors'].tolist())\n",
    "y = np.array(data['type'])\n",
    "\n",
    "X = X.reshape(X.shape[0], -1)\n",
    "\n",
    "X_train, X_test, y_train, y_test = train_test_split(X, y, test_size=0.2)\n",
    "\n",
    "rfc = RandomForestClassifier(n_estimators=100)\n",
    "\n",
    "rfc.fit(X_train, y_train)\n",
    "\n",
    "accuracy = rfc.score(X_test, y_test)\n",
    "print('Accuracy:', accuracy)"
   ]
  },
  {
   "cell_type": "code",
   "execution_count": 10,
   "metadata": {},
   "outputs": [
    {
     "name": "stdout",
     "output_type": "stream",
     "text": [
      "Accuracy: 0.984\n"
     ]
    }
   ],
   "source": [
    "from sklearn.tree import DecisionTreeClassifier \n",
    "from sklearn.model_selection import train_test_split\n",
    "from sklearn import metrics \n",
    "\n",
    "clf = DecisionTreeClassifier()\n",
    "\n",
    "clf = clf.fit(X_train,y_train)\n",
    "\n",
    "y_pred = clf.predict(X_test)\n",
    "\n",
    "print(\"Accuracy:\",metrics.accuracy_score(y_test, y_pred))"
   ]
  },
  {
   "attachments": {},
   "cell_type": "markdown",
   "metadata": {},
   "source": [
    "## Model exporting\n",
    "\n",
    "This section is used to convert the keras model to a tensor flow lite model in order to be imported into the watch application."
   ]
  },
  {
   "cell_type": "code",
   "execution_count": 11,
   "metadata": {},
   "outputs": [
    {
     "name": "stderr",
     "output_type": "stream",
     "text": [
      "WARNING:absl:You are saving your model as an HDF5 file via `model.save()` or `keras.saving.save_model(model)`. This file format is considered legacy. We recommend using instead the native Keras format, e.g. `model.save('my_model.keras')` or `keras.saving.save_model(model, 'my_model.keras')`. \n"
     ]
    },
    {
     "name": "stdout",
     "output_type": "stream",
     "text": [
      "INFO:tensorflow:Assets written to: /var/folders/n4/l9jzx91j5bj33w5yq7mv1mqw0000gn/T/tmpu8idkmc5/assets\n"
     ]
    },
    {
     "name": "stderr",
     "output_type": "stream",
     "text": [
      "INFO:tensorflow:Assets written to: /var/folders/n4/l9jzx91j5bj33w5yq7mv1mqw0000gn/T/tmpu8idkmc5/assets\n"
     ]
    },
    {
     "name": "stdout",
     "output_type": "stream",
     "text": [
      "Saved artifact at '/var/folders/n4/l9jzx91j5bj33w5yq7mv1mqw0000gn/T/tmpu8idkmc5'. The following endpoints are available:\n",
      "\n",
      "* Endpoint 'serve'\n",
      "  args_0 (POSITIONAL_ONLY): TensorSpec(shape=(None, 100, 6), dtype=tf.float32, name='keras_tensor')\n",
      "Output Type:\n",
      "  TensorSpec(shape=(None, 3), dtype=tf.float32, name=None)\n",
      "Captures:\n",
      "  13164401616: TensorSpec(shape=(), dtype=tf.resource, name=None)\n",
      "  13164402768: TensorSpec(shape=(), dtype=tf.resource, name=None)\n",
      "  13164402384: TensorSpec(shape=(), dtype=tf.resource, name=None)\n",
      "  13164403152: TensorSpec(shape=(), dtype=tf.resource, name=None)\n",
      "  13164404496: TensorSpec(shape=(), dtype=tf.resource, name=None)\n",
      "  13164405264: TensorSpec(shape=(), dtype=tf.resource, name=None)\n"
     ]
    },
    {
     "name": "stderr",
     "output_type": "stream",
     "text": [
      "WARNING: All log messages before absl::InitializeLog() is called are written to STDERR\n",
      "W0000 00:00:1739456571.880574  726981 tf_tfl_flatbuffer_helpers.cc:365] Ignored output_format.\n",
      "W0000 00:00:1739456571.880735  726981 tf_tfl_flatbuffer_helpers.cc:368] Ignored drop_control_dependency.\n",
      "2025-02-13 16:22:51.881091: I tensorflow/cc/saved_model/reader.cc:83] Reading SavedModel from: /var/folders/n4/l9jzx91j5bj33w5yq7mv1mqw0000gn/T/tmpu8idkmc5\n",
      "2025-02-13 16:22:51.881419: I tensorflow/cc/saved_model/reader.cc:52] Reading meta graph with tags { serve }\n",
      "2025-02-13 16:22:51.881427: I tensorflow/cc/saved_model/reader.cc:147] Reading SavedModel debug info (if present) from: /var/folders/n4/l9jzx91j5bj33w5yq7mv1mqw0000gn/T/tmpu8idkmc5\n",
      "I0000 00:00:1739456571.884024  726981 mlir_graph_optimization_pass.cc:401] MLIR V1 optimization pass is not enabled\n",
      "2025-02-13 16:22:51.884391: I tensorflow/cc/saved_model/loader.cc:236] Restoring SavedModel bundle.\n",
      "2025-02-13 16:22:51.902320: I tensorflow/cc/saved_model/loader.cc:220] Running initialization op on SavedModel bundle at path: /var/folders/n4/l9jzx91j5bj33w5yq7mv1mqw0000gn/T/tmpu8idkmc5\n",
      "2025-02-13 16:22:51.906972: I tensorflow/cc/saved_model/loader.cc:466] SavedModel load for tags { serve }; Status: success: OK. Took 25884 microseconds.\n",
      "2025-02-13 16:22:51.927337: I tensorflow/compiler/mlir/tensorflow/utils/dump_mlir_util.cc:268] disabling MLIR crash reproducer, set env var `MLIR_CRASH_REPRODUCER_DIRECTORY` to enable.\n"
     ]
    }
   ],
   "source": [
    "import tensorflow as tf\n",
    "\n",
    "# Save the model\n",
    "model.save('temp_model.h5')\n",
    "\n",
    "# Reload the model\n",
    "temp = tf.keras.models.load_model('temp_model.h5', compile=False)\n",
    "\n",
    "#converter = tf.lite.TFLiteConverter.from_keras_model(temp)\n",
    "converter = tf.lite.TFLiteConverter.from_keras_model(model)\n",
    "tflite_model = converter.convert()\n",
    "\n",
    "with open('model_100_6.tflite', 'wb') as f:\n",
    "  f.write(tflite_model)"
   ]
  },
  {
   "cell_type": "code",
   "execution_count": 12,
   "metadata": {},
   "outputs": [
    {
     "name": "stdout",
     "output_type": "stream",
     "text": [
      "1 input(s):\n",
      "[  1 100   6] <class 'numpy.float32'>\n",
      "\n",
      "1 output(s):\n",
      "[1 3] <class 'numpy.float32'>\n"
     ]
    },
    {
     "name": "stderr",
     "output_type": "stream",
     "text": [
      "INFO: Created TensorFlow Lite XNNPACK delegate for CPU.\n"
     ]
    }
   ],
   "source": [
    "import tensorflow as tf\n",
    "\n",
    "interpreter = tf.lite.Interpreter(model_path=\"model_100_6.tflite\")\n",
    "interpreter.allocate_tensors()\n",
    "\n",
    "inputs = interpreter.get_input_details()\n",
    "print('{} input(s):'.format(len(inputs)))\n",
    "for i in range(0, len(inputs)):\n",
    "    print('{} {}'.format(inputs[i]['shape'], inputs[i]['dtype']))\n",
    "\n",
    "outputs = interpreter.get_output_details()\n",
    "print('\\n{} output(s):'.format(len(outputs)))\n",
    "for i in range(0, len(outputs)):\n",
    "    print('{} {}'.format(outputs[i]['shape'], outputs[i]['dtype']))"
   ]
  }
 ],
 "metadata": {
  "kernelspec": {
   "display_name": "Python 3",
   "language": "python",
   "name": "python3"
  },
  "language_info": {
   "codemirror_mode": {
    "name": "ipython",
    "version": 3
   },
   "file_extension": ".py",
   "mimetype": "text/x-python",
   "name": "python",
   "nbconvert_exporter": "python",
   "pygments_lexer": "ipython3",
   "version": "3.12.2"
  },
  "orig_nbformat": 4,
  "vscode": {
   "interpreter": {
    "hash": "aee8b7b246df8f9039afb4144a1f6fd8d2ca17a180786b69acc140d282b71a49"
   }
  }
 },
 "nbformat": 4,
 "nbformat_minor": 2
}
