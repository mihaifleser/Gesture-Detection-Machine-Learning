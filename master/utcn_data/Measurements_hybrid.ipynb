{
 "cells": [
  {
   "attachments": {},
   "cell_type": "markdown",
   "metadata": {},
   "source": [
    "# Gesture model training"
   ]
  },
  {
   "attachments": {},
   "cell_type": "markdown",
   "metadata": {},
   "source": [
    "## Data Reading\n",
    "\n",
    "This section reads the data from the sensors. The data is stored in two .csv files, Measurement.cs and Batch.csv <br>\n",
    "Measurement.csv contains the actual values of rotation and acceleration. Each gesture has 100 tim"
   ]
  },
  {
   "cell_type": "code",
   "execution_count": 1,
   "metadata": {},
   "outputs": [
    {
     "data": {
      "text/html": [
       "<div>\n",
       "<style scoped>\n",
       "    .dataframe tbody tr th:only-of-type {\n",
       "        vertical-align: middle;\n",
       "    }\n",
       "\n",
       "    .dataframe tbody tr th {\n",
       "        vertical-align: top;\n",
       "    }\n",
       "\n",
       "    .dataframe thead th {\n",
       "        text-align: right;\n",
       "    }\n",
       "</style>\n",
       "<table border=\"1\" class=\"dataframe\">\n",
       "  <thead>\n",
       "    <tr style=\"text-align: right;\">\n",
       "      <th></th>\n",
       "      <th>id</th>\n",
       "      <th>batchId</th>\n",
       "      <th>xRotation</th>\n",
       "      <th>yRotation</th>\n",
       "      <th>zRotation</th>\n",
       "      <th>xAcceleration</th>\n",
       "      <th>yAcceleration</th>\n",
       "      <th>zAcceleration</th>\n",
       "    </tr>\n",
       "  </thead>\n",
       "  <tbody>\n",
       "    <tr>\n",
       "      <th>0</th>\n",
       "      <td>1</td>\n",
       "      <td>2</td>\n",
       "      <td>0.005060</td>\n",
       "      <td>0.003861</td>\n",
       "      <td>0.005326</td>\n",
       "      <td>0.908973</td>\n",
       "      <td>2.029113</td>\n",
       "      <td>9.494870</td>\n",
       "    </tr>\n",
       "    <tr>\n",
       "      <th>1</th>\n",
       "      <td>2</td>\n",
       "      <td>2</td>\n",
       "      <td>0.005060</td>\n",
       "      <td>0.003861</td>\n",
       "      <td>0.005326</td>\n",
       "      <td>0.882652</td>\n",
       "      <td>2.127369</td>\n",
       "      <td>9.384650</td>\n",
       "    </tr>\n",
       "    <tr>\n",
       "      <th>2</th>\n",
       "      <td>3</td>\n",
       "      <td>2</td>\n",
       "      <td>0.005060</td>\n",
       "      <td>0.003861</td>\n",
       "      <td>0.005326</td>\n",
       "      <td>0.861117</td>\n",
       "      <td>2.098655</td>\n",
       "      <td>9.432507</td>\n",
       "    </tr>\n",
       "    <tr>\n",
       "      <th>3</th>\n",
       "      <td>4</td>\n",
       "      <td>2</td>\n",
       "      <td>0.005060</td>\n",
       "      <td>0.003861</td>\n",
       "      <td>0.005326</td>\n",
       "      <td>0.868295</td>\n",
       "      <td>1.971686</td>\n",
       "      <td>9.458828</td>\n",
       "    </tr>\n",
       "    <tr>\n",
       "      <th>4</th>\n",
       "      <td>5</td>\n",
       "      <td>2</td>\n",
       "      <td>0.005060</td>\n",
       "      <td>0.003861</td>\n",
       "      <td>0.005326</td>\n",
       "      <td>0.849153</td>\n",
       "      <td>2.036292</td>\n",
       "      <td>9.463613</td>\n",
       "    </tr>\n",
       "    <tr>\n",
       "      <th>...</th>\n",
       "      <td>...</td>\n",
       "      <td>...</td>\n",
       "      <td>...</td>\n",
       "      <td>...</td>\n",
       "      <td>...</td>\n",
       "      <td>...</td>\n",
       "      <td>...</td>\n",
       "      <td>...</td>\n",
       "    </tr>\n",
       "    <tr>\n",
       "      <th>245095</th>\n",
       "      <td>245096</td>\n",
       "      <td>2452</td>\n",
       "      <td>0.525959</td>\n",
       "      <td>-0.900521</td>\n",
       "      <td>-2.217150</td>\n",
       "      <td>-1.364358</td>\n",
       "      <td>4.855935</td>\n",
       "      <td>8.718698</td>\n",
       "    </tr>\n",
       "    <tr>\n",
       "      <th>245096</th>\n",
       "      <td>245097</td>\n",
       "      <td>2452</td>\n",
       "      <td>0.525959</td>\n",
       "      <td>-0.900521</td>\n",
       "      <td>-2.217150</td>\n",
       "      <td>-1.450499</td>\n",
       "      <td>3.099902</td>\n",
       "      <td>9.257681</td>\n",
       "    </tr>\n",
       "    <tr>\n",
       "      <th>245097</th>\n",
       "      <td>245098</td>\n",
       "      <td>2452</td>\n",
       "      <td>0.525959</td>\n",
       "      <td>-0.900521</td>\n",
       "      <td>-2.217150</td>\n",
       "      <td>-1.469642</td>\n",
       "      <td>2.980261</td>\n",
       "      <td>9.217003</td>\n",
       "    </tr>\n",
       "    <tr>\n",
       "      <th>245098</th>\n",
       "      <td>245099</td>\n",
       "      <td>2452</td>\n",
       "      <td>0.525959</td>\n",
       "      <td>-0.900521</td>\n",
       "      <td>-2.217150</td>\n",
       "      <td>-0.887588</td>\n",
       "      <td>3.332305</td>\n",
       "      <td>8.704341</td>\n",
       "    </tr>\n",
       "    <tr>\n",
       "      <th>245099</th>\n",
       "      <td>245100</td>\n",
       "      <td>2452</td>\n",
       "      <td>0.525959</td>\n",
       "      <td>-0.900521</td>\n",
       "      <td>-2.217150</td>\n",
       "      <td>-0.492323</td>\n",
       "      <td>2.810071</td>\n",
       "      <td>8.474331</td>\n",
       "    </tr>\n",
       "  </tbody>\n",
       "</table>\n",
       "<p>245100 rows × 8 columns</p>\n",
       "</div>"
      ],
      "text/plain": [
       "            id  batchId  xRotation  yRotation  zRotation  xAcceleration  \\\n",
       "0            1        2   0.005060   0.003861   0.005326       0.908973   \n",
       "1            2        2   0.005060   0.003861   0.005326       0.882652   \n",
       "2            3        2   0.005060   0.003861   0.005326       0.861117   \n",
       "3            4        2   0.005060   0.003861   0.005326       0.868295   \n",
       "4            5        2   0.005060   0.003861   0.005326       0.849153   \n",
       "...        ...      ...        ...        ...        ...            ...   \n",
       "245095  245096     2452   0.525959  -0.900521  -2.217150      -1.364358   \n",
       "245096  245097     2452   0.525959  -0.900521  -2.217150      -1.450499   \n",
       "245097  245098     2452   0.525959  -0.900521  -2.217150      -1.469642   \n",
       "245098  245099     2452   0.525959  -0.900521  -2.217150      -0.887588   \n",
       "245099  245100     2452   0.525959  -0.900521  -2.217150      -0.492323   \n",
       "\n",
       "        yAcceleration  zAcceleration  \n",
       "0            2.029113       9.494870  \n",
       "1            2.127369       9.384650  \n",
       "2            2.098655       9.432507  \n",
       "3            1.971686       9.458828  \n",
       "4            2.036292       9.463613  \n",
       "...               ...            ...  \n",
       "245095       4.855935       8.718698  \n",
       "245096       3.099902       9.257681  \n",
       "245097       2.980261       9.217003  \n",
       "245098       3.332305       8.704341  \n",
       "245099       2.810071       8.474331  \n",
       "\n",
       "[245100 rows x 8 columns]"
      ]
     },
     "execution_count": 1,
     "metadata": {},
     "output_type": "execute_result"
    }
   ],
   "source": [
    "import pandas as pd\n",
    "\n",
    "ms = pd.read_csv(\"measurements_utcn_users.csv\")\n",
    "ms"
   ]
  },
  {
   "attachments": {},
   "cell_type": "markdown",
   "metadata": {},
   "source": [
    "The Batch.csv contains the id of the batch and the type of the gesture: <br> \n",
    "0 -> Up and down <br>\n",
    "1 -> Left and right <br>\n",
    "2 -> Rotation <br>\n",
    "3 -> Other"
   ]
  },
  {
   "cell_type": "code",
   "execution_count": 2,
   "metadata": {},
   "outputs": [
    {
     "data": {
      "text/html": [
       "<div>\n",
       "<style scoped>\n",
       "    .dataframe tbody tr th:only-of-type {\n",
       "        vertical-align: middle;\n",
       "    }\n",
       "\n",
       "    .dataframe tbody tr th {\n",
       "        vertical-align: top;\n",
       "    }\n",
       "\n",
       "    .dataframe thead th {\n",
       "        text-align: right;\n",
       "    }\n",
       "</style>\n",
       "<table border=\"1\" class=\"dataframe\">\n",
       "  <thead>\n",
       "    <tr style=\"text-align: right;\">\n",
       "      <th></th>\n",
       "      <th>id</th>\n",
       "      <th>type</th>\n",
       "      <th>userName</th>\n",
       "    </tr>\n",
       "  </thead>\n",
       "  <tbody>\n",
       "    <tr>\n",
       "      <th>0</th>\n",
       "      <td>1</td>\n",
       "      <td>1</td>\n",
       "      <td>Default</td>\n",
       "    </tr>\n",
       "    <tr>\n",
       "      <th>1</th>\n",
       "      <td>2</td>\n",
       "      <td>0</td>\n",
       "      <td>Default</td>\n",
       "    </tr>\n",
       "    <tr>\n",
       "      <th>2</th>\n",
       "      <td>3</td>\n",
       "      <td>0</td>\n",
       "      <td>Default</td>\n",
       "    </tr>\n",
       "    <tr>\n",
       "      <th>3</th>\n",
       "      <td>4</td>\n",
       "      <td>0</td>\n",
       "      <td>Default</td>\n",
       "    </tr>\n",
       "    <tr>\n",
       "      <th>4</th>\n",
       "      <td>5</td>\n",
       "      <td>1</td>\n",
       "      <td>Default</td>\n",
       "    </tr>\n",
       "    <tr>\n",
       "      <th>...</th>\n",
       "      <td>...</td>\n",
       "      <td>...</td>\n",
       "      <td>...</td>\n",
       "    </tr>\n",
       "    <tr>\n",
       "      <th>2447</th>\n",
       "      <td>2448</td>\n",
       "      <td>3</td>\n",
       "      <td>Victor</td>\n",
       "    </tr>\n",
       "    <tr>\n",
       "      <th>2448</th>\n",
       "      <td>2449</td>\n",
       "      <td>3</td>\n",
       "      <td>Victor</td>\n",
       "    </tr>\n",
       "    <tr>\n",
       "      <th>2449</th>\n",
       "      <td>2450</td>\n",
       "      <td>3</td>\n",
       "      <td>Victor</td>\n",
       "    </tr>\n",
       "    <tr>\n",
       "      <th>2450</th>\n",
       "      <td>2451</td>\n",
       "      <td>3</td>\n",
       "      <td>Victor</td>\n",
       "    </tr>\n",
       "    <tr>\n",
       "      <th>2451</th>\n",
       "      <td>2452</td>\n",
       "      <td>3</td>\n",
       "      <td>Victor</td>\n",
       "    </tr>\n",
       "  </tbody>\n",
       "</table>\n",
       "<p>2452 rows × 3 columns</p>\n",
       "</div>"
      ],
      "text/plain": [
       "        id  type userName\n",
       "0        1     1  Default\n",
       "1        2     0  Default\n",
       "2        3     0  Default\n",
       "3        4     0  Default\n",
       "4        5     1  Default\n",
       "...    ...   ...      ...\n",
       "2447  2448     3  Victor \n",
       "2448  2449     3  Victor \n",
       "2449  2450     3  Victor \n",
       "2450  2451     3  Victor \n",
       "2451  2452     3  Victor \n",
       "\n",
       "[2452 rows x 3 columns]"
      ]
     },
     "execution_count": 2,
     "metadata": {},
     "output_type": "execute_result"
    }
   ],
   "source": [
    "bt = pd.read_csv(\"measurement_batch_utcn_users.csv\")\n",
    "bt"
   ]
  },
  {
   "attachments": {},
   "cell_type": "markdown",
   "metadata": {},
   "source": [
    "## Data preparing\n",
    "\n",
    "This section prepares the data in order to feed it to the neural network model. <br>\n",
    "Firstly, we concatenate all the values from the table, and we will organise the data in two columns with gesture's type and it's 100 measures."
   ]
  },
  {
   "cell_type": "code",
   "execution_count": 3,
   "metadata": {},
   "outputs": [
    {
     "data": {
      "text/html": [
       "<div>\n",
       "<style scoped>\n",
       "    .dataframe tbody tr th:only-of-type {\n",
       "        vertical-align: middle;\n",
       "    }\n",
       "\n",
       "    .dataframe tbody tr th {\n",
       "        vertical-align: top;\n",
       "    }\n",
       "\n",
       "    .dataframe thead th {\n",
       "        text-align: right;\n",
       "    }\n",
       "</style>\n",
       "<table border=\"1\" class=\"dataframe\">\n",
       "  <thead>\n",
       "    <tr style=\"text-align: right;\">\n",
       "      <th></th>\n",
       "      <th>type</th>\n",
       "      <th>sensors</th>\n",
       "    </tr>\n",
       "  </thead>\n",
       "  <tbody>\n",
       "    <tr>\n",
       "      <th>0</th>\n",
       "      <td>0</td>\n",
       "      <td>[[0.005059857, 0.0038614697, 0.005326165, 0.90...</td>\n",
       "    </tr>\n",
       "    <tr>\n",
       "      <th>1</th>\n",
       "      <td>0</td>\n",
       "      <td>[[0.007856093, 0.0022636203, -0.0015978495, 0....</td>\n",
       "    </tr>\n",
       "    <tr>\n",
       "      <th>2</th>\n",
       "      <td>0</td>\n",
       "      <td>[[0.010918639, 0.0029293909, -0.004260932, 0.2...</td>\n",
       "    </tr>\n",
       "    <tr>\n",
       "      <th>3</th>\n",
       "      <td>1</td>\n",
       "      <td>[[-0.0034620073, 0.0061250897, 0.005326165, 0....</td>\n",
       "    </tr>\n",
       "    <tr>\n",
       "      <th>4</th>\n",
       "      <td>3</td>\n",
       "      <td>[[-0.007323477, 0.00013315413, -0.0037283157, ...</td>\n",
       "    </tr>\n",
       "    <tr>\n",
       "      <th>...</th>\n",
       "      <td>...</td>\n",
       "      <td>...</td>\n",
       "    </tr>\n",
       "    <tr>\n",
       "      <th>2446</th>\n",
       "      <td>3</td>\n",
       "      <td>[[0.09946613, 0.041810397, -0.08375394, -0.164...</td>\n",
       "    </tr>\n",
       "    <tr>\n",
       "      <th>2447</th>\n",
       "      <td>3</td>\n",
       "      <td>[[0.028761292, 0.039280467, -0.011983871, -1.1...</td>\n",
       "    </tr>\n",
       "    <tr>\n",
       "      <th>2448</th>\n",
       "      <td>3</td>\n",
       "      <td>[[0.11424624, 0.04713656, -0.023701435, -2.672...</td>\n",
       "    </tr>\n",
       "    <tr>\n",
       "      <th>2449</th>\n",
       "      <td>3</td>\n",
       "      <td>[[-0.0075897854, 0.021837277, 0.0027962367, -0...</td>\n",
       "    </tr>\n",
       "    <tr>\n",
       "      <th>2450</th>\n",
       "      <td>3</td>\n",
       "      <td>[[-0.013581721, 0.022636201, -0.018774733, -1....</td>\n",
       "    </tr>\n",
       "  </tbody>\n",
       "</table>\n",
       "<p>2451 rows × 2 columns</p>\n",
       "</div>"
      ],
      "text/plain": [
       "      type                                            sensors\n",
       "0        0  [[0.005059857, 0.0038614697, 0.005326165, 0.90...\n",
       "1        0  [[0.007856093, 0.0022636203, -0.0015978495, 0....\n",
       "2        0  [[0.010918639, 0.0029293909, -0.004260932, 0.2...\n",
       "3        1  [[-0.0034620073, 0.0061250897, 0.005326165, 0....\n",
       "4        3  [[-0.007323477, 0.00013315413, -0.0037283157, ...\n",
       "...    ...                                                ...\n",
       "2446     3  [[0.09946613, 0.041810397, -0.08375394, -0.164...\n",
       "2447     3  [[0.028761292, 0.039280467, -0.011983871, -1.1...\n",
       "2448     3  [[0.11424624, 0.04713656, -0.023701435, -2.672...\n",
       "2449     3  [[-0.0075897854, 0.021837277, 0.0027962367, -0...\n",
       "2450     3  [[-0.013581721, 0.022636201, -0.018774733, -1....\n",
       "\n",
       "[2451 rows x 2 columns]"
      ]
     },
     "execution_count": 3,
     "metadata": {},
     "output_type": "execute_result"
    }
   ],
   "source": [
    "import numpy as np\n",
    "data = pd.DataFrame(columns=['type', 'sensors'])\n",
    "for i in set(ms['batchId'].tolist()):\n",
    "    allMeasurements = ms.loc[ms['batchId'] == i]\n",
    "    filtered = allMeasurements.drop('id', inplace=False, axis=1).drop('batchId', inplace=False, axis=1).to_numpy()\n",
    "    flat = filtered.flatten()\n",
    "    batchType = bt.loc[bt['id'] == i].iat[0,1]\n",
    "    data.loc[len(data)] = {\n",
    "    \"type\": batchType,\n",
    "    \"sensors\": filtered\n",
    "    }\n",
    "data"
   ]
  },
  {
   "attachments": {},
   "cell_type": "markdown",
   "metadata": {},
   "source": [
    "Now, we split the data into training and test."
   ]
  },
  {
   "cell_type": "code",
   "execution_count": 4,
   "metadata": {},
   "outputs": [
    {
     "name": "stdout",
     "output_type": "stream",
     "text": [
      "[[[-1.1051793e-01 -8.0198730e-01 -8.2555560e-03  1.9037895e-01\n",
      "    1.0900803e+00  1.1995668e+01]\n",
      "  [-1.1051793e-01 -8.0198730e-01 -8.2555560e-03 -2.5513470e-01\n",
      "    1.4949160e+00  1.2242429e+01]\n",
      "  [-1.1051793e-01 -8.0198730e-01 -8.2555560e-03 -3.6535412e-01\n",
      "    4.3130627e-01  1.2649657e+01]\n",
      "  ...\n",
      "  [ 4.2968836e-01  1.2581733e+00 -5.3261653e-02  3.4695927e-02\n",
      "    3.8584266e-02  1.0718948e+01]\n",
      "  [ 4.2968836e-01  1.2581733e+00 -5.3261653e-02 -8.5094760e-02\n",
      "   -3.3349965e-02  1.0874631e+01]\n",
      "  [ 4.2968836e-01  1.2581733e+00 -5.3261653e-02 -1.6899310e-01\n",
      "   -3.0164522e-01  1.0982458e+01]]\n",
      "\n",
      " [[ 9.7202510e-03 -1.4913263e-02 -3.7283156e-02 -1.3055839e-01\n",
      "    1.0446166e+00  1.1416007e+01]\n",
      "  [ 9.7202510e-03 -1.4913263e-02 -3.7283156e-02 -3.5578280e-01\n",
      "    6.1585270e-01  1.1861521e+01]\n",
      "  [-2.9320538e-01 -8.5777890e-01  8.4952330e-02 -2.5752753e-01\n",
      "   -3.8075790e-01  1.2132209e+01]\n",
      "  ...\n",
      "  [ 1.0106398e-01  2.3934455e+00 -3.6790484e-01  1.4252250e-01\n",
      "   -6.6341007e-01  1.0119995e+01]\n",
      "  [ 1.0106398e-01  2.3934455e+00 -3.6790484e-01  1.6405790e-01\n",
      "   -5.9865430e-01  9.8853480e+00]\n",
      "  [ 1.0106398e-01  2.3934455e+00 -3.6790484e-01  4.1874398e-02\n",
      "   -5.2686965e-01  9.8325570e+00]]\n",
      "\n",
      " [[-1.1318101e-02  3.5951615e-03  1.7310036e-03 -8.9237330e-01\n",
      "   -3.1839496e-01  1.0021889e+01]\n",
      "  [-1.1318101e-02  3.5951615e-03  1.7310036e-03 -9.8823580e-01\n",
      "   -1.8664017e-01  9.8038435e+00]\n",
      "  [-1.1318101e-02  3.5951615e-03  1.7310036e-03 -1.0384850e+00\n",
      "   -1.1006984e-01  9.7079800e+00]\n",
      "  ...\n",
      "  [-5.7522584e-02 -1.5179570e-01  6.3913980e-02 -1.5870396e+00\n",
      "   -2.4815066e+00  1.0596765e+01]\n",
      "  [-5.7522584e-02 -1.5179570e-01  6.3913980e-02 -1.5463617e+00\n",
      "   -3.1259236e+00  1.0424332e+01]\n",
      "  [-5.7522584e-02 -1.5179570e-01  6.3913980e-02 -1.4696418e+00\n",
      "   -3.1019955e+00  9.9140625e+00]]\n",
      "\n",
      " ...\n",
      "\n",
      " [[ 8.1224020e-03  7.8560930e-03 -6.6577060e-04  2.5124637e-02\n",
      "    2.7215366e+00  9.4829050e+00]\n",
      "  [ 8.1224020e-03  7.8560930e-03 -6.6577060e-04 -7.0737820e-02\n",
      "    2.7813573e+00  9.5977610e+00]\n",
      "  [-4.0612010e-02 -3.4753226e-02  5.7256274e-02 -2.0488543e-02\n",
      "    2.9802606e+00  9.5810120e+00]\n",
      "  ...\n",
      "  [ 9.3207890e-04 -2.5032977e-02 -2.7030287e-02 -4.6809590e-02\n",
      "    2.8076782e+00  9.1043910e+00]\n",
      "  [ 9.3207890e-04 -2.5032977e-02 -2.7030287e-02  1.7946170e-02\n",
      "    2.8148568e+00  9.2313600e+00]\n",
      "  [ 9.3207890e-04 -2.5032977e-02 -2.7030287e-02  1.5927225e-01\n",
      "    3.0113673e+00  9.2576810e+00]]\n",
      "\n",
      " [[-3.0225987e-02 -3.8881004e-02  2.6630826e-04  2.3344976e-01\n",
      "    3.2916267e+00  9.0972130e+00]\n",
      "  [-3.0225987e-02 -3.8881004e-02  2.6630826e-04  2.4541387e-01\n",
      "    3.2412279e+00  9.1929250e+00]\n",
      "  [-3.0225987e-02 -3.8881004e-02  2.6630826e-04  2.3823540e-01\n",
      "    3.2724840e+00  9.1713910e+00]\n",
      "  ...\n",
      "  [-5.1397495e-02  5.1264340e-02 -6.0451973e-02 -3.0059835e-02\n",
      "    3.0041888e+00  9.3463650e+00]\n",
      "  [-5.1397495e-02  5.1264340e-02 -6.0451973e-02 -1.0917253e-02\n",
      "    3.3970604e+00  9.1737830e+00]\n",
      "  [-5.1397495e-02  5.1264340e-02 -6.0451973e-02  7.7766740e-02\n",
      "    3.5168512e+00  9.1163550e+00]]\n",
      "\n",
      " [[ 1.3848029e-02 -3.0625449e-03  3.5951615e-03 -9.2273220e-02\n",
      "    1.3248760e+00  1.0124781e+01]\n",
      "  [ 1.3848029e-02 -3.0625449e-03  3.5951615e-03 -3.5339000e-01\n",
      "    1.1572288e+00  9.9571330e+00]\n",
      "  [ 1.3848029e-02 -3.0625449e-03  3.5951615e-03 -3.1749764e-01\n",
      "    1.3081262e+00  9.9236340e+00]\n",
      "  ...\n",
      "  [-7.4965775e-02 -8.8946960e-02 -8.8800490e-01 -3.6774692e-01\n",
      "    1.9070797e+00  9.7438730e+00]\n",
      "  [-7.4965775e-02 -8.8946960e-02 -8.8800490e-01 -4.3728834e-01\n",
      "    2.1034408e+00  9.6338030e+00]\n",
      "  [-7.4965775e-02 -8.8946960e-02 -8.8800490e-01 -3.4860435e-01\n",
      "    1.9357935e+00  9.6840520e+00]]]\n",
      "840     0\n",
      "834     0\n",
      "1163    3\n",
      "789     3\n",
      "1624    3\n",
      "       ..\n",
      "1953    3\n",
      "192     1\n",
      "289     2\n",
      "174     1\n",
      "988     1\n",
      "Name: type, Length: 491, dtype: int64\n"
     ]
    }
   ],
   "source": [
    "from sklearn.model_selection import train_test_split\n",
    "\n",
    "import numpy as np\n",
    "from sklearn.model_selection import train_test_split\n",
    "from sklearn.preprocessing import LabelEncoder\n",
    "\n",
    "X = np.stack(data['sensors'].values)\n",
    "y = data['type']\n",
    "\n",
    "X_train, X_test, y_train, y_test = train_test_split(X, y, test_size=0.2, random_state=42)\n",
    "print(X_test)\n",
    "print(y_test)"
   ]
  },
  {
   "attachments": {},
   "cell_type": "markdown",
   "metadata": {},
   "source": [
    "## Model training\n",
    "\n",
    "This section covers the model training process."
   ]
  },
  {
   "cell_type": "code",
   "execution_count": 11,
   "metadata": {},
   "outputs": [
    {
     "name": "stdout",
     "output_type": "stream",
     "text": [
      "Epoch 1/10\n",
      "\u001b[1m45/45\u001b[0m \u001b[32m━━━━━━━━━━━━━━━━━━━━\u001b[0m\u001b[37m\u001b[0m \u001b[1m2s\u001b[0m 11ms/step - accuracy: 0.4025 - loss: 1.2976 - val_accuracy: 0.6786 - val_loss: 1.0097\n",
      "Epoch 2/10\n",
      "\u001b[1m45/45\u001b[0m \u001b[32m━━━━━━━━━━━━━━━━━━━━\u001b[0m\u001b[37m\u001b[0m \u001b[1m0s\u001b[0m 7ms/step - accuracy: 0.8435 - loss: 0.8204 - val_accuracy: 0.9541 - val_loss: 0.5726\n",
      "Epoch 3/10\n",
      "\u001b[1m45/45\u001b[0m \u001b[32m━━━━━━━━━━━━━━━━━━━━\u001b[0m\u001b[37m\u001b[0m \u001b[1m0s\u001b[0m 8ms/step - accuracy: 0.9408 - loss: 0.5894 - val_accuracy: 0.9592 - val_loss: 0.4532\n",
      "Epoch 4/10\n",
      "\u001b[1m45/45\u001b[0m \u001b[32m━━━━━━━━━━━━━━━━━━━━\u001b[0m\u001b[37m\u001b[0m \u001b[1m0s\u001b[0m 8ms/step - accuracy: 0.9470 - loss: 0.5101 - val_accuracy: 0.9745 - val_loss: 0.3872\n",
      "Epoch 5/10\n",
      "\u001b[1m45/45\u001b[0m \u001b[32m━━━━━━━━━━━━━━━━━━━━\u001b[0m\u001b[37m\u001b[0m \u001b[1m0s\u001b[0m 8ms/step - accuracy: 0.9664 - loss: 0.4285 - val_accuracy: 0.9184 - val_loss: 0.4470\n",
      "Epoch 6/10\n",
      "\u001b[1m45/45\u001b[0m \u001b[32m━━━━━━━━━━━━━━━━━━━━\u001b[0m\u001b[37m\u001b[0m \u001b[1m0s\u001b[0m 8ms/step - accuracy: 0.9502 - loss: 0.4301 - val_accuracy: 0.9745 - val_loss: 0.3024\n",
      "Epoch 7/10\n",
      "\u001b[1m45/45\u001b[0m \u001b[32m━━━━━━━━━━━━━━━━━━━━\u001b[0m\u001b[37m\u001b[0m \u001b[1m0s\u001b[0m 8ms/step - accuracy: 0.9720 - loss: 0.3772 - val_accuracy: 0.9898 - val_loss: 0.2758\n",
      "Epoch 8/10\n",
      "\u001b[1m45/45\u001b[0m \u001b[32m━━━━━━━━━━━━━━━━━━━━\u001b[0m\u001b[37m\u001b[0m \u001b[1m0s\u001b[0m 8ms/step - accuracy: 0.9780 - loss: 0.3258 - val_accuracy: 0.9898 - val_loss: 0.2580\n",
      "Epoch 9/10\n",
      "\u001b[1m45/45\u001b[0m \u001b[32m━━━━━━━━━━━━━━━━━━━━\u001b[0m\u001b[37m\u001b[0m \u001b[1m0s\u001b[0m 8ms/step - accuracy: 0.9866 - loss: 0.3058 - val_accuracy: 0.9745 - val_loss: 0.2788\n",
      "Epoch 10/10\n",
      "\u001b[1m45/45\u001b[0m \u001b[32m━━━━━━━━━━━━━━━━━━━━\u001b[0m\u001b[37m\u001b[0m \u001b[1m0s\u001b[0m 9ms/step - accuracy: 0.9789 - loss: 0.3192 - val_accuracy: 0.9796 - val_loss: 0.2334\n"
     ]
    }
   ],
   "source": [
    "from keras.models import Sequential\n",
    "from keras.layers import Dense\n",
    "from keras.layers import Input\n",
    "from keras.layers import LSTM\n",
    "from keras.layers import Conv1D\n",
    "from keras.layers import MaxPooling1D\n",
    "from keras.layers import Dropout\n",
    "\n",
    "\n",
    "import tensorflow as tf\n",
    "\n",
    "model = Sequential()\n",
    "    \n",
    "# Convolutional layers for feature extraction\n",
    "model.add(Input(shape = (100,6)))\n",
    "model.add(Conv1D(filters=64, kernel_size=5, activation='relu'))\n",
    "model.add(MaxPooling1D(pool_size=2))\n",
    "model.add(Conv1D(filters=32, kernel_size=3, activation='relu'))\n",
    "model.add(MaxPooling1D(pool_size=2))\n",
    "\n",
    "# LSTM layers for sequential dependencies\n",
    "model.add(LSTM(32, return_sequences=True))\n",
    "model.add(LSTM(16))\n",
    "\n",
    "# Fully connected layers\n",
    "model.add(Dense(8, activation='relu'))\n",
    "model.add(Dense(4, activation='softmax'))  # 3 output classes for gestures\n",
    "\n",
    "# Compile the model\n",
    "model.compile(loss='sparse_categorical_crossentropy', optimizer='adam', metrics=['accuracy'])\n",
    "\n",
    "history = model.fit(X_train, y_train, epochs=10, batch_size=40, validation_split=0.1)"
   ]
  },
  {
   "cell_type": "code",
   "execution_count": 12,
   "metadata": {},
   "outputs": [
    {
     "data": {
      "text/html": [
       "<pre style=\"white-space:pre;overflow-x:auto;line-height:normal;font-family:Menlo,'DejaVu Sans Mono',consolas,'Courier New',monospace\"><span style=\"font-weight: bold\">Model: \"sequential_4\"</span>\n",
       "</pre>\n"
      ],
      "text/plain": [
       "\u001b[1mModel: \"sequential_4\"\u001b[0m\n"
      ]
     },
     "metadata": {},
     "output_type": "display_data"
    },
    {
     "data": {
      "text/html": [
       "<pre style=\"white-space:pre;overflow-x:auto;line-height:normal;font-family:Menlo,'DejaVu Sans Mono',consolas,'Courier New',monospace\">┏━━━━━━━━━━━━━━━━━━━━━━━━━━━━━━━━━┳━━━━━━━━━━━━━━━━━━━━━━━━┳━━━━━━━━━━━━━━━┓\n",
       "┃<span style=\"font-weight: bold\"> Layer (type)                    </span>┃<span style=\"font-weight: bold\"> Output Shape           </span>┃<span style=\"font-weight: bold\">       Param # </span>┃\n",
       "┡━━━━━━━━━━━━━━━━━━━━━━━━━━━━━━━━━╇━━━━━━━━━━━━━━━━━━━━━━━━╇━━━━━━━━━━━━━━━┩\n",
       "│ conv1d_5 (<span style=\"color: #0087ff; text-decoration-color: #0087ff\">Conv1D</span>)               │ (<span style=\"color: #00d7ff; text-decoration-color: #00d7ff\">None</span>, <span style=\"color: #00af00; text-decoration-color: #00af00\">96</span>, <span style=\"color: #00af00; text-decoration-color: #00af00\">64</span>)         │         <span style=\"color: #00af00; text-decoration-color: #00af00\">1,984</span> │\n",
       "├─────────────────────────────────┼────────────────────────┼───────────────┤\n",
       "│ max_pooling1d_4 (<span style=\"color: #0087ff; text-decoration-color: #0087ff\">MaxPooling1D</span>)  │ (<span style=\"color: #00d7ff; text-decoration-color: #00d7ff\">None</span>, <span style=\"color: #00af00; text-decoration-color: #00af00\">48</span>, <span style=\"color: #00af00; text-decoration-color: #00af00\">64</span>)         │             <span style=\"color: #00af00; text-decoration-color: #00af00\">0</span> │\n",
       "├─────────────────────────────────┼────────────────────────┼───────────────┤\n",
       "│ conv1d_6 (<span style=\"color: #0087ff; text-decoration-color: #0087ff\">Conv1D</span>)               │ (<span style=\"color: #00d7ff; text-decoration-color: #00d7ff\">None</span>, <span style=\"color: #00af00; text-decoration-color: #00af00\">46</span>, <span style=\"color: #00af00; text-decoration-color: #00af00\">32</span>)         │         <span style=\"color: #00af00; text-decoration-color: #00af00\">6,176</span> │\n",
       "├─────────────────────────────────┼────────────────────────┼───────────────┤\n",
       "│ max_pooling1d_5 (<span style=\"color: #0087ff; text-decoration-color: #0087ff\">MaxPooling1D</span>)  │ (<span style=\"color: #00d7ff; text-decoration-color: #00d7ff\">None</span>, <span style=\"color: #00af00; text-decoration-color: #00af00\">23</span>, <span style=\"color: #00af00; text-decoration-color: #00af00\">32</span>)         │             <span style=\"color: #00af00; text-decoration-color: #00af00\">0</span> │\n",
       "├─────────────────────────────────┼────────────────────────┼───────────────┤\n",
       "│ lstm_4 (<span style=\"color: #0087ff; text-decoration-color: #0087ff\">LSTM</span>)                   │ (<span style=\"color: #00d7ff; text-decoration-color: #00d7ff\">None</span>, <span style=\"color: #00af00; text-decoration-color: #00af00\">23</span>, <span style=\"color: #00af00; text-decoration-color: #00af00\">32</span>)         │         <span style=\"color: #00af00; text-decoration-color: #00af00\">8,320</span> │\n",
       "├─────────────────────────────────┼────────────────────────┼───────────────┤\n",
       "│ lstm_5 (<span style=\"color: #0087ff; text-decoration-color: #0087ff\">LSTM</span>)                   │ (<span style=\"color: #00d7ff; text-decoration-color: #00d7ff\">None</span>, <span style=\"color: #00af00; text-decoration-color: #00af00\">16</span>)             │         <span style=\"color: #00af00; text-decoration-color: #00af00\">3,136</span> │\n",
       "├─────────────────────────────────┼────────────────────────┼───────────────┤\n",
       "│ dense_4 (<span style=\"color: #0087ff; text-decoration-color: #0087ff\">Dense</span>)                 │ (<span style=\"color: #00d7ff; text-decoration-color: #00d7ff\">None</span>, <span style=\"color: #00af00; text-decoration-color: #00af00\">8</span>)              │           <span style=\"color: #00af00; text-decoration-color: #00af00\">136</span> │\n",
       "├─────────────────────────────────┼────────────────────────┼───────────────┤\n",
       "│ dense_5 (<span style=\"color: #0087ff; text-decoration-color: #0087ff\">Dense</span>)                 │ (<span style=\"color: #00d7ff; text-decoration-color: #00d7ff\">None</span>, <span style=\"color: #00af00; text-decoration-color: #00af00\">4</span>)              │            <span style=\"color: #00af00; text-decoration-color: #00af00\">36</span> │\n",
       "└─────────────────────────────────┴────────────────────────┴───────────────┘\n",
       "</pre>\n"
      ],
      "text/plain": [
       "┏━━━━━━━━━━━━━━━━━━━━━━━━━━━━━━━━━┳━━━━━━━━━━━━━━━━━━━━━━━━┳━━━━━━━━━━━━━━━┓\n",
       "┃\u001b[1m \u001b[0m\u001b[1mLayer (type)                   \u001b[0m\u001b[1m \u001b[0m┃\u001b[1m \u001b[0m\u001b[1mOutput Shape          \u001b[0m\u001b[1m \u001b[0m┃\u001b[1m \u001b[0m\u001b[1m      Param #\u001b[0m\u001b[1m \u001b[0m┃\n",
       "┡━━━━━━━━━━━━━━━━━━━━━━━━━━━━━━━━━╇━━━━━━━━━━━━━━━━━━━━━━━━╇━━━━━━━━━━━━━━━┩\n",
       "│ conv1d_5 (\u001b[38;5;33mConv1D\u001b[0m)               │ (\u001b[38;5;45mNone\u001b[0m, \u001b[38;5;34m96\u001b[0m, \u001b[38;5;34m64\u001b[0m)         │         \u001b[38;5;34m1,984\u001b[0m │\n",
       "├─────────────────────────────────┼────────────────────────┼───────────────┤\n",
       "│ max_pooling1d_4 (\u001b[38;5;33mMaxPooling1D\u001b[0m)  │ (\u001b[38;5;45mNone\u001b[0m, \u001b[38;5;34m48\u001b[0m, \u001b[38;5;34m64\u001b[0m)         │             \u001b[38;5;34m0\u001b[0m │\n",
       "├─────────────────────────────────┼────────────────────────┼───────────────┤\n",
       "│ conv1d_6 (\u001b[38;5;33mConv1D\u001b[0m)               │ (\u001b[38;5;45mNone\u001b[0m, \u001b[38;5;34m46\u001b[0m, \u001b[38;5;34m32\u001b[0m)         │         \u001b[38;5;34m6,176\u001b[0m │\n",
       "├─────────────────────────────────┼────────────────────────┼───────────────┤\n",
       "│ max_pooling1d_5 (\u001b[38;5;33mMaxPooling1D\u001b[0m)  │ (\u001b[38;5;45mNone\u001b[0m, \u001b[38;5;34m23\u001b[0m, \u001b[38;5;34m32\u001b[0m)         │             \u001b[38;5;34m0\u001b[0m │\n",
       "├─────────────────────────────────┼────────────────────────┼───────────────┤\n",
       "│ lstm_4 (\u001b[38;5;33mLSTM\u001b[0m)                   │ (\u001b[38;5;45mNone\u001b[0m, \u001b[38;5;34m23\u001b[0m, \u001b[38;5;34m32\u001b[0m)         │         \u001b[38;5;34m8,320\u001b[0m │\n",
       "├─────────────────────────────────┼────────────────────────┼───────────────┤\n",
       "│ lstm_5 (\u001b[38;5;33mLSTM\u001b[0m)                   │ (\u001b[38;5;45mNone\u001b[0m, \u001b[38;5;34m16\u001b[0m)             │         \u001b[38;5;34m3,136\u001b[0m │\n",
       "├─────────────────────────────────┼────────────────────────┼───────────────┤\n",
       "│ dense_4 (\u001b[38;5;33mDense\u001b[0m)                 │ (\u001b[38;5;45mNone\u001b[0m, \u001b[38;5;34m8\u001b[0m)              │           \u001b[38;5;34m136\u001b[0m │\n",
       "├─────────────────────────────────┼────────────────────────┼───────────────┤\n",
       "│ dense_5 (\u001b[38;5;33mDense\u001b[0m)                 │ (\u001b[38;5;45mNone\u001b[0m, \u001b[38;5;34m4\u001b[0m)              │            \u001b[38;5;34m36\u001b[0m │\n",
       "└─────────────────────────────────┴────────────────────────┴───────────────┘\n"
      ]
     },
     "metadata": {},
     "output_type": "display_data"
    },
    {
     "data": {
      "text/html": [
       "<pre style=\"white-space:pre;overflow-x:auto;line-height:normal;font-family:Menlo,'DejaVu Sans Mono',consolas,'Courier New',monospace\"><span style=\"font-weight: bold\"> Total params: </span><span style=\"color: #00af00; text-decoration-color: #00af00\">59,366</span> (231.90 KB)\n",
       "</pre>\n"
      ],
      "text/plain": [
       "\u001b[1m Total params: \u001b[0m\u001b[38;5;34m59,366\u001b[0m (231.90 KB)\n"
      ]
     },
     "metadata": {},
     "output_type": "display_data"
    },
    {
     "data": {
      "text/html": [
       "<pre style=\"white-space:pre;overflow-x:auto;line-height:normal;font-family:Menlo,'DejaVu Sans Mono',consolas,'Courier New',monospace\"><span style=\"font-weight: bold\"> Trainable params: </span><span style=\"color: #00af00; text-decoration-color: #00af00\">19,788</span> (77.30 KB)\n",
       "</pre>\n"
      ],
      "text/plain": [
       "\u001b[1m Trainable params: \u001b[0m\u001b[38;5;34m19,788\u001b[0m (77.30 KB)\n"
      ]
     },
     "metadata": {},
     "output_type": "display_data"
    },
    {
     "data": {
      "text/html": [
       "<pre style=\"white-space:pre;overflow-x:auto;line-height:normal;font-family:Menlo,'DejaVu Sans Mono',consolas,'Courier New',monospace\"><span style=\"font-weight: bold\"> Non-trainable params: </span><span style=\"color: #00af00; text-decoration-color: #00af00\">0</span> (0.00 B)\n",
       "</pre>\n"
      ],
      "text/plain": [
       "\u001b[1m Non-trainable params: \u001b[0m\u001b[38;5;34m0\u001b[0m (0.00 B)\n"
      ]
     },
     "metadata": {},
     "output_type": "display_data"
    },
    {
     "data": {
      "text/html": [
       "<pre style=\"white-space:pre;overflow-x:auto;line-height:normal;font-family:Menlo,'DejaVu Sans Mono',consolas,'Courier New',monospace\"><span style=\"font-weight: bold\"> Optimizer params: </span><span style=\"color: #00af00; text-decoration-color: #00af00\">39,578</span> (154.61 KB)\n",
       "</pre>\n"
      ],
      "text/plain": [
       "\u001b[1m Optimizer params: \u001b[0m\u001b[38;5;34m39,578\u001b[0m (154.61 KB)\n"
      ]
     },
     "metadata": {},
     "output_type": "display_data"
    }
   ],
   "source": [
    "model.summary()"
   ]
  },
  {
   "cell_type": "code",
   "execution_count": 13,
   "metadata": {},
   "outputs": [
    {
     "data": {
      "image/png": "[encoded data removed]",
      "text/plain": [
       "<Figure size 640x480 with 1 Axes>"
      ]
     },
     "metadata": {},
     "output_type": "display_data"
    },
    {
     "data": {
      "image/png": "[encoded data removed]",
      "text/plain": [
       "<Figure size 640x480 with 1 Axes>"
      ]
     },
     "metadata": {},
     "output_type": "display_data"
    }
   ],
   "source": [
    "import keras\n",
    "from matplotlib import pyplot as plt\n",
    "plt.plot(history.history['accuracy'])\n",
    "plt.plot(history.history['val_accuracy'])\n",
    "plt.title('model accuracy')\n",
    "plt.ylabel('accuracy')\n",
    "plt.xlabel('epoch')\n",
    "plt.legend(['train', 'val'], loc='upper left')\n",
    "plt.show()\n",
    "plt.subplot(1,2,1)\n",
    "\n",
    "plt.plot(history.history['loss'])\n",
    "plt.plot(history.history['val_loss'])\n",
    "plt.title('model loss')\n",
    "plt.ylabel('loss')\n",
    "plt.xlabel('epoch')\n",
    "plt.legend(['train', 'val'], loc='upper left')\n",
    "plt.show()"
   ]
  },
  {
   "cell_type": "code",
   "execution_count": 24,
   "metadata": {},
   "outputs": [
    {
     "name": "stdout",
     "output_type": "stream",
     "text": [
      "\u001b[1m16/16\u001b[0m \u001b[32m━━━━━━━━━━━━━━━━━━━━\u001b[0m\u001b[37m\u001b[0m \u001b[1m0s\u001b[0m 1ms/step - accuracy: 0.9576 - loss: 0.1568 \n"
     ]
    }
   ],
   "source": [
    "loss, accuracy = model.evaluate(X_test, y_test)"
   ]
  },
  {
   "attachments": {},
   "cell_type": "markdown",
   "metadata": {},
   "source": [
    "Training two predefined trees classifiers with the recorded data."
   ]
  },
  {
   "cell_type": "code",
   "execution_count": 25,
   "metadata": {},
   "outputs": [
    {
     "name": "stdout",
     "output_type": "stream",
     "text": [
      "Accuracy: 0.9714867617107943\n"
     ]
    }
   ],
   "source": [
    "from sklearn.ensemble import RandomForestClassifier\n",
    "X = np.array(data['sensors'].tolist())\n",
    "y = np.array(data['type'])\n",
    "\n",
    "X = X.reshape(X.shape[0], -1)\n",
    "\n",
    "X_train, X_test, y_train, y_test = train_test_split(X, y, test_size=0.2)\n",
    "\n",
    "rfc = RandomForestClassifier(n_estimators=100)\n",
    "\n",
    "rfc.fit(X_train, y_train)\n",
    "\n",
    "accuracy = rfc.score(X_test, y_test)\n",
    "print('Accuracy:', accuracy)"
   ]
  },
  {
   "cell_type": "code",
   "execution_count": 26,
   "metadata": {},
   "outputs": [
    {
     "name": "stdout",
     "output_type": "stream",
     "text": [
      "Accuracy: 0.9083503054989817\n"
     ]
    }
   ],
   "source": [
    "from sklearn.tree import DecisionTreeClassifier \n",
    "from sklearn.model_selection import train_test_split\n",
    "from sklearn import metrics \n",
    "\n",
    "clf = DecisionTreeClassifier()\n",
    "\n",
    "clf = clf.fit(X_train,y_train)\n",
    "\n",
    "y_pred = clf.predict(X_test)\n",
    "\n",
    "print(\"Accuracy:\",metrics.accuracy_score(y_test, y_pred))"
   ]
  },
  {
   "attachments": {},
   "cell_type": "markdown",
   "metadata": {},
   "source": [
    "## Model exporting\n",
    "\n",
    "This section is used to convert the keras model to a tensor flow lite model in order to be imported into the watch application."
   ]
  },
  {
   "cell_type": "code",
   "execution_count": 27,
   "metadata": {},
   "outputs": [
    {
     "name": "stderr",
     "output_type": "stream",
     "text": [
      "WARNING:absl:You are saving your model as an HDF5 file via `model.save()` or `keras.saving.save_model(model)`. This file format is considered legacy. We recommend using instead the native Keras format, e.g. `model.save('my_model.keras')` or `keras.saving.save_model(model, 'my_model.keras')`. \n"
     ]
    },
    {
     "name": "stdout",
     "output_type": "stream",
     "text": [
      "INFO:tensorflow:Assets written to: /var/folders/n4/l9jzx91j5bj33w5yq7mv1mqw0000gn/T/tmpd25_bo_z/assets\n"
     ]
    },
    {
     "name": "stderr",
     "output_type": "stream",
     "text": [
      "INFO:tensorflow:Assets written to: /var/folders/n4/l9jzx91j5bj33w5yq7mv1mqw0000gn/T/tmpd25_bo_z/assets\n"
     ]
    },
    {
     "name": "stdout",
     "output_type": "stream",
     "text": [
      "Saved artifact at '/var/folders/n4/l9jzx91j5bj33w5yq7mv1mqw0000gn/T/tmpd25_bo_z'. The following endpoints are available:\n",
      "\n",
      "* Endpoint 'serve'\n",
      "  args_0 (POSITIONAL_ONLY): TensorSpec(shape=(None, 100, 6), dtype=tf.float32, name='keras_tensor_33')\n",
      "Output Type:\n",
      "  TensorSpec(shape=(None, 4), dtype=tf.float32, name=None)\n",
      "Captures:\n",
      "  13327265680: TensorSpec(shape=(), dtype=tf.resource, name=None)\n",
      "  13327256464: TensorSpec(shape=(), dtype=tf.resource, name=None)\n",
      "  13327258960: TensorSpec(shape=(), dtype=tf.resource, name=None)\n",
      "  13327269328: TensorSpec(shape=(), dtype=tf.resource, name=None)\n",
      "  13327253968: TensorSpec(shape=(), dtype=tf.resource, name=None)\n",
      "  13327269520: TensorSpec(shape=(), dtype=tf.resource, name=None)\n"
     ]
    },
    {
     "name": "stderr",
     "output_type": "stream",
     "text": [
      "WARNING: All log messages before absl::InitializeLog() is called are written to STDERR\n",
      "W0000 00:00:1743605499.222172 1063226 tf_tfl_flatbuffer_helpers.cc:365] Ignored output_format.\n",
      "W0000 00:00:1743605499.222217 1063226 tf_tfl_flatbuffer_helpers.cc:368] Ignored drop_control_dependency.\n",
      "2025-04-02 17:51:39.222531: I tensorflow/cc/saved_model/reader.cc:83] Reading SavedModel from: /var/folders/n4/l9jzx91j5bj33w5yq7mv1mqw0000gn/T/tmpd25_bo_z\n",
      "2025-04-02 17:51:39.222834: I tensorflow/cc/saved_model/reader.cc:52] Reading meta graph with tags { serve }\n",
      "2025-04-02 17:51:39.222843: I tensorflow/cc/saved_model/reader.cc:147] Reading SavedModel debug info (if present) from: /var/folders/n4/l9jzx91j5bj33w5yq7mv1mqw0000gn/T/tmpd25_bo_z\n",
      "I0000 00:00:1743605499.225019 1063226 mlir_graph_optimization_pass.cc:401] MLIR V1 optimization pass is not enabled\n",
      "2025-04-02 17:51:39.225417: I tensorflow/cc/saved_model/loader.cc:236] Restoring SavedModel bundle.\n",
      "2025-04-02 17:51:39.240551: I tensorflow/cc/saved_model/loader.cc:220] Running initialization op on SavedModel bundle at path: /var/folders/n4/l9jzx91j5bj33w5yq7mv1mqw0000gn/T/tmpd25_bo_z\n",
      "2025-04-02 17:51:39.245511: I tensorflow/cc/saved_model/loader.cc:466] SavedModel load for tags { serve }; Status: success: OK. Took 22981 microseconds.\n",
      "2025-04-02 17:51:39.251972: I tensorflow/compiler/mlir/tensorflow/utils/dump_mlir_util.cc:268] disabling MLIR crash reproducer, set env var `MLIR_CRASH_REPRODUCER_DIRECTORY` to enable.\n"
     ]
    }
   ],
   "source": [
    "import tensorflow as tf\n",
    "\n",
    "# Save the model\n",
    "model.save('temp_model.h5')\n",
    "\n",
    "# Reload the model\n",
    "temp = tf.keras.models.load_model('temp_model.h5', compile=False)\n",
    "\n",
    "#converter = tf.lite.TFLiteConverter.from_keras_model(temp)\n",
    "converter = tf.lite.TFLiteConverter.from_keras_model(model)\n",
    "tflite_model = converter.convert()\n",
    "\n",
    "with open('model_100_6_utcn_users.tflite', 'wb') as f:\n",
    "  f.write(tflite_model)"
   ]
  },
  {
   "cell_type": "code",
   "execution_count": 29,
   "metadata": {},
   "outputs": [
    {
     "name": "stdout",
     "output_type": "stream",
     "text": [
      "1 input(s):\n",
      "[  1 100   6] <class 'numpy.float32'>\n",
      "\n",
      "1 output(s):\n",
      "[1 4] <class 'numpy.float32'>\n"
     ]
    },
    {
     "name": "stderr",
     "output_type": "stream",
     "text": [
      "INFO: Created TensorFlow Lite XNNPACK delegate for CPU.\n"
     ]
    }
   ],
   "source": [
    "import tensorflow as tf\n",
    "\n",
    "interpreter = tf.lite.Interpreter(model_path=\"model_100_6_utcn_users.tflite\")\n",
    "interpreter.allocate_tensors()\n",
    "\n",
    "inputs = interpreter.get_input_details()\n",
    "print('{} input(s):'.format(len(inputs)))\n",
    "for i in range(0, len(inputs)):\n",
    "    print('{} {}'.format(inputs[i]['shape'], inputs[i]['dtype']))\n",
    "\n",
    "outputs = interpreter.get_output_details()\n",
    "print('\\n{} output(s):'.format(len(outputs)))\n",
    "for i in range(0, len(outputs)):\n",
    "    print('{} {}'.format(outputs[i]['shape'], outputs[i]['dtype']))"
   ]
  }
 ],
 "metadata": {
  "kernelspec": {
   "display_name": "Python 3",
   "language": "python",
   "name": "python3"
  },
  "language_info": {
   "codemirror_mode": {
    "name": "ipython",
    "version": 3
   },
   "file_extension": ".py",
   "mimetype": "text/x-python",
   "name": "python",
   "nbconvert_exporter": "python",
   "pygments_lexer": "ipython3",
   "version": "3.12.2"
  },
  "orig_nbformat": 4,
  "vscode": {
   "interpreter": {
    "hash": "aee8b7b246df8f9039afb4144a1f6fd8d2ca17a180786b69acc140d282b71a49"
   }
  }
 },
 "nbformat": 4,
 "nbformat_minor": 2
}
